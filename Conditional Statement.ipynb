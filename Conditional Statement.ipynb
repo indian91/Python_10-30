{
 "cells": [
  {
   "cell_type": "code",
   "execution_count": 1,
   "metadata": {},
   "outputs": [],
   "source": [
    "#Single IF()\n",
    "#if with else\n",
    "#if else laddder\n",
    "#nested if else"
   ]
  },
  {
   "cell_type": "code",
   "execution_count": 3,
   "metadata": {},
   "outputs": [
    {
     "name": "stdout",
     "output_type": "stream",
     "text": [
      "Enter a number66\n"
     ]
    }
   ],
   "source": [
    "x=int(input('Enter a number'))\n",
    "if x%5==0:\n",
    "    print('Divisible by 5')"
   ]
  },
  {
   "cell_type": "code",
   "execution_count": 4,
   "metadata": {},
   "outputs": [
    {
     "name": "stdout",
     "output_type": "stream",
     "text": [
      "Enter a number65\n",
      "Divisible by 5\n"
     ]
    }
   ],
   "source": [
    "x=int(input('Enter a number'))\n",
    "if x%5==0:\n",
    "    print('Divisible by 5')\n",
    "else:\n",
    "    print('Not Divisible by 5')"
   ]
  },
  {
   "cell_type": "code",
   "execution_count": 5,
   "metadata": {},
   "outputs": [
    {
     "name": "stdout",
     "output_type": "stream",
     "text": [
      "Enter a number76\n",
      "Not Divisible by 5\n"
     ]
    }
   ],
   "source": [
    "x=int(input('Enter a number'))\n",
    "if x%5==0:\n",
    "    print('Divisible by 5')\n",
    "else:\n",
    "    print('Not Divisible by 5')"
   ]
  },
  {
   "cell_type": "code",
   "execution_count": 6,
   "metadata": {},
   "outputs": [],
   "source": [
    "l=[i for i in range(5,51,5)]"
   ]
  },
  {
   "cell_type": "code",
   "execution_count": 9,
   "metadata": {},
   "outputs": [
    {
     "name": "stdout",
     "output_type": "stream",
     "text": [
      "Enter a number34\n",
      "Not divisible\n"
     ]
    }
   ],
   "source": [
    "x=int(input('Enter a number'))\n",
    "if x in l:\n",
    "    print('Number is divisible by 5')\n",
    "else:\n",
    "    print('Not divisible')"
   ]
  },
  {
   "cell_type": "code",
   "execution_count": 14,
   "metadata": {},
   "outputs": [
    {
     "name": "stdout",
     "output_type": "stream",
     "text": [
      "Enter week day number3\n",
      "Tuesday\n",
      "Enter week day number1\n",
      "Sunday\n",
      "Enter week day number5\n",
      "Thursday\n",
      "Enter week day number7\n",
      "Saturday\n",
      "Enter week day number9\n",
      "invalid week number\n"
     ]
    }
   ],
   "source": [
    "for i in range(5):\n",
    "    x=int(input('Enter week day number'))\n",
    "    if x==1:\n",
    "        print(\"Sunday\")\n",
    "    elif x==2:\n",
    "        print('Monday')\n",
    "    elif x==3:\n",
    "        print('Tuesday')\n",
    "    elif x==4:\n",
    "        print('Wednesday')\n",
    "    elif x==5:\n",
    "        print('Thursday')\n",
    "    elif x==6:\n",
    "        print('Friday')\n",
    "    elif x==7:\n",
    "        print('Saturday')\n",
    "    else:\n",
    "        print('invalid week number')"
   ]
  },
  {
   "cell_type": "code",
   "execution_count": 18,
   "metadata": {},
   "outputs": [
    {
     "name": "stdout",
     "output_type": "stream",
     "text": [
      "7\n",
      "9\n",
      "4\n",
      "9 is maximum\n"
     ]
    }
   ],
   "source": [
    "x,y,z=int(input()),int(input()),int(input())\n",
    "\n",
    "if x > y and x > z:\n",
    "    print(f'{x} is maximum')\n",
    "elif y>z:\n",
    "    print(f'{y} is maximum')\n",
    "else:\n",
    "    print(f'{z} is maximum')"
   ]
  },
  {
   "cell_type": "code",
   "execution_count": 19,
   "metadata": {},
   "outputs": [],
   "source": [
    "ari=['+','-','*','/','//','%']\n",
    "log=['and','or','not']\n",
    "rel=['<','>','<=','>=','==','!=']\n",
    "bit=['&','|','<<','>>','^']\n",
    "assign=['+=','-=','*=','/=','//=','%=']\n"
   ]
  },
  {
   "cell_type": "code",
   "execution_count": 22,
   "metadata": {},
   "outputs": [
    {
     "name": "stdout",
     "output_type": "stream",
     "text": [
      "Any operator symbol*\n",
      "Arithmatic Operator\n",
      "Any operator symbolor\n",
      "Logical Operator\n",
      "Any operator symbol<=\n",
      "Relational Operator\n",
      "Any operator symbol^\n",
      "bit wise operator\n",
      "Any operator symbol+=\n",
      "Assignment operator\n",
      "Any operator symbol**\n",
      "Invalid Operator symbol\n"
     ]
    }
   ],
   "source": [
    "for i in range(6):\n",
    "    x=input('Any operator symbol')\n",
    "    if x in ari:\n",
    "        print('Arithmatic Operator')\n",
    "    elif x in log:\n",
    "        print('Logical Operator')\n",
    "    elif x in rel:\n",
    "        print('Relational Operator')\n",
    "    elif x in bit:\n",
    "        print('bit wise operator')\n",
    "    elif x in assign:\n",
    "        print('Assignment operator')\n",
    "    else:\n",
    "        print('Invalid Operator symbol')"
   ]
  },
  {
   "cell_type": "code",
   "execution_count": 25,
   "metadata": {},
   "outputs": [
    {
     "name": "stdout",
     "output_type": "stream",
     "text": [
      "Enter a number21\n",
      "Number is not from table of 2\n"
     ]
    }
   ],
   "source": [
    "l=[i for i in range(2,21,2)]\n",
    "x=int(input('Enter a number'))\n",
    "if x in l:\n",
    "    print('Number is from table of 2')\n",
    "else:\n",
    "    print('Number is not from table of 2')"
   ]
  },
  {
   "cell_type": "code",
   "execution_count": 26,
   "metadata": {},
   "outputs": [
    {
     "name": "stdout",
     "output_type": "stream",
     "text": [
      "Enter a number15\n",
      "Number is not from table of 2\n"
     ]
    }
   ],
   "source": [
    "l=[i for i in range(2,21,2)]\n",
    "x=int(input('Enter a number'))\n",
    "if x not in l:\n",
    "    print('Number is not from table of 2')\n",
    "else:\n",
    "    print('Number is from table of 2')"
   ]
  },
  {
   "cell_type": "code",
   "execution_count": 29,
   "metadata": {},
   "outputs": [
    {
     "name": "stdout",
     "output_type": "stream",
     "text": [
      "Enter a numbe between 1 to 10066\n",
      "Not divisible by 5\n"
     ]
    }
   ],
   "source": [
    "l=[i for i in range(5,101,5)]\n",
    "x=int(input('Enter a numbe between 1 to 100'))\n",
    "if x<1 or x>100:\n",
    "    print('Please enter number between 1 to 100')\n",
    "else:\n",
    "    if x in l:\n",
    "        print('divisible by 5')\n",
    "    else:\n",
    "        print('Not divisible by 5')"
   ]
  },
  {
   "cell_type": "raw",
   "metadata": {},
   "source": [
    "#Restaurent----->\n",
    "                1. Only home delivery is avialble\n",
    "                2. Maximum distance 10rs/km\n",
    "                3. A.if distance is upto 3 km ---->delivery is free\n",
    "                   B. if dis is between 4 to 6-----> 3rs/km\n",
    "                   C. if dis is between 7 to 10----> 5/km\n",
    "                4.Veg thali----->price--->120\n",
    "                5.Non Veg thali---->150\n",
    " Input Sequence----->Qunatity of thali----->\n",
    "                     Which thali you want\n",
    "                     distance   "
   ]
  },
  {
   "cell_type": "code",
   "execution_count": 35,
   "metadata": {},
   "outputs": [
    {
     "name": "stdout",
     "output_type": "stream",
     "text": [
      "Enter the thali quantity you want3\n",
      "Please input thali 'V' and 'N'V\n",
      "Enter distance from restaurent2\n",
      "Final Price:  360\n",
      "Enter the thali quantity you want4\n",
      "Please input thali 'V' and 'N'N\n",
      "Enter distance from restaurent5\n",
      "Final Price:  606\n",
      "Enter the thali quantity you want5\n",
      "Please input thali 'V' and 'N'V\n",
      "Enter distance from restaurent8\n",
      "Final Price:  619\n"
     ]
    }
   ],
   "source": [
    "for i in range(3):\n",
    "    qt=int(input('Enter the thali quantity you want'))\n",
    "    thali=input(\"Please input thali 'V' and 'N'\")\n",
    "    dis=int(input('Enter distance from restaurent'))\n",
    "    if qt>=1 and thali in ['N','V'] and dis > 0:\n",
    "        if thali=='N':\n",
    "            price=150*qt\n",
    "        else:\n",
    "            price=120*qt\n",
    "\n",
    "        if dis<=3:\n",
    "            final_price=price\n",
    "        elif dis<=6:\n",
    "            final_price=price+(dis-3)*3\n",
    "        elif dis<=10:\n",
    "            final_price=price+(dis-6)*5+3*3\n",
    "        else:\n",
    "            print('Home Delivery not Avialable at your Location')\n",
    "        print('Final Price: ',final_price)\n",
    "    else:\n",
    "        print('Invalid Format')"
   ]
  },
  {
   "cell_type": "code",
   "execution_count": 36,
   "metadata": {},
   "outputs": [
    {
     "data": {
      "text/plain": [
       "360"
      ]
     },
     "execution_count": 36,
     "metadata": {},
     "output_type": "execute_result"
    }
   ],
   "source": [
    "120*3+0"
   ]
  },
  {
   "cell_type": "code",
   "execution_count": 37,
   "metadata": {},
   "outputs": [
    {
     "data": {
      "text/plain": [
       "606"
      ]
     },
     "execution_count": 37,
     "metadata": {},
     "output_type": "execute_result"
    }
   ],
   "source": [
    "150*4+2*3"
   ]
  },
  {
   "cell_type": "code",
   "execution_count": 38,
   "metadata": {},
   "outputs": [
    {
     "data": {
      "text/plain": [
       "619"
      ]
     },
     "execution_count": 38,
     "metadata": {},
     "output_type": "execute_result"
    }
   ],
   "source": [
    "120*5+9+2*5"
   ]
  },
  {
   "cell_type": "code",
   "execution_count": 41,
   "metadata": {},
   "outputs": [
    {
     "name": "stdout",
     "output_type": "stream",
     "text": [
      "Enter the thali quantity you want4\n",
      "Please input thali 'V' and 'N'V\n",
      "Enter distance from restaurent30\n",
      "Home Delivery not Avialable at your Location\n",
      "Enter the thali quantity you want5\n",
      "Please input thali 'V' and 'N'N\n",
      "Enter distance from restaurent7\n",
      "Final Price:  764\n",
      "Enter the thali quantity you want7\n",
      "Please input thali 'V' and 'N'V\n",
      "Enter distance from restaurent8\n",
      "Final Price:  859\n"
     ]
    }
   ],
   "source": [
    "for i in range(3):\n",
    "    qt=int(input('Enter the thali quantity you want'))\n",
    "    thali=input(\"Please input thali 'V' and 'N'\")\n",
    "    dis=int(input('Enter distance from restaurent'))\n",
    "    if qt>=1 and thali in ['N','V'] and dis > 0:\n",
    "        if thali=='N':\n",
    "            price=150*qt\n",
    "        else:\n",
    "            price=120*qt\n",
    "\n",
    "        if dis<=3:\n",
    "            final_price=price\n",
    "            print('Final Price: ',final_price)\n",
    "        elif dis<=6:\n",
    "            final_price=price+(dis-3)*3\n",
    "            print('Final Price: ',final_price)\n",
    "        elif dis<=10:\n",
    "            final_price=price+(dis-6)*5+3*3\n",
    "            print('Final Price: ',final_price)\n",
    "        else:\n",
    "            print('Home Delivery not Avialable at your Location')\n",
    "        \n",
    "    else:\n",
    "        print('Invalid Format')"
   ]
  },
  {
   "cell_type": "code",
   "execution_count": 42,
   "metadata": {},
   "outputs": [],
   "source": [
    "#Create a next day program\n"
   ]
  },
  {
   "cell_type": "code",
   "execution_count": 52,
   "metadata": {},
   "outputs": [
    {
     "name": "stdout",
     "output_type": "stream",
     "text": [
      "Enter Date in dd/mm/yy format....31/12/2020\n",
      "1/1/2021\n"
     ]
    }
   ],
   "source": [
    "date=input('Enter Date in dd/mm/yy format....').split('/')\n",
    "day=int(date[0])\n",
    "month=int(date[1])\n",
    "year=int(date[2])\n",
    "\n",
    "if month==2 and year%4==0:\n",
    "        if 0<day<30:\n",
    "            if day==29:\n",
    "                day=1\n",
    "                month+=1\n",
    "            else:\n",
    "                day+=1\n",
    "        else:\n",
    "            print('Invalid Date')\n",
    "    \n",
    "elif month==2 and year%4!=0:\n",
    "    if 0 < day <29:\n",
    "        if day==28:\n",
    "            day=1\n",
    "            month+=1\n",
    "        else:\n",
    "            day+=1\n",
    "    else:\n",
    "        print('Invalid Date')\n",
    "elif month in [4,6,9,11]:\n",
    "    if 0<day<31:\n",
    "        if day==30:\n",
    "            day=1\n",
    "            month+=1\n",
    "        else:\n",
    "            day+=1\n",
    "    else:\n",
    "        print('Invalid Date')\n",
    "elif month in [1,3,5,7,8,10]:\n",
    "    if 0<day<32:\n",
    "        if day==31:\n",
    "            day=1\n",
    "            month+=1\n",
    "        else:\n",
    "            day+=1\n",
    "    else:\n",
    "        print('Invalid Date')\n",
    "        \n",
    "elif month==12:\n",
    "    if 0<day<32:\n",
    "        if day==31:\n",
    "            day=1\n",
    "            month=1\n",
    "            year+=1\n",
    "        else:\n",
    "            day+=1\n",
    "    else:\n",
    "        print('Invalid Date')\n",
    "        \n",
    "else:\n",
    "    print('Month Invalid')\n",
    "    \n",
    "print(f'{day}/{month}/{year}')"
   ]
  },
  {
   "cell_type": "code",
   "execution_count": null,
   "metadata": {},
   "outputs": [],
   "source": []
  }
 ],
 "metadata": {
  "kernelspec": {
   "display_name": "Python 3",
   "language": "python",
   "name": "python3"
  },
  "language_info": {
   "codemirror_mode": {
    "name": "ipython",
    "version": 3
   },
   "file_extension": ".py",
   "mimetype": "text/x-python",
   "name": "python",
   "nbconvert_exporter": "python",
   "pygments_lexer": "ipython3",
   "version": "3.7.3"
  }
 },
 "nbformat": 4,
 "nbformat_minor": 2
}
