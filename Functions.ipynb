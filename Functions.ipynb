{
 "cells": [
  {
   "cell_type": "code",
   "execution_count": 1,
   "metadata": {},
   "outputs": [
    {
     "name": "stdout",
     "output_type": "stream",
     "text": [
      "Enter a stringINdian\n",
      "INDIAN\n"
     ]
    }
   ],
   "source": [
    "s=input('Enter a string')\n",
    "if s[0].isupper() and s[1].isupper():\n",
    "    print(s.upper())"
   ]
  },
  {
   "cell_type": "code",
   "execution_count": 3,
   "metadata": {},
   "outputs": [
    {
     "name": "stdout",
     "output_type": "stream",
     "text": [
      "Enter a stringINDian\n",
      "INDIAN\n"
     ]
    }
   ],
   "source": [
    "s=input('Enter a string')\n",
    "\n",
    "    print(s.upper())\n",
    "else:\n",
    "    print(s)"
   ]
  },
  {
   "cell_type": "code",
   "execution_count": 4,
   "metadata": {},
   "outputs": [
    {
     "data": {
      "text/plain": [
       "True"
      ]
     },
     "execution_count": 4,
     "metadata": {},
     "output_type": "execute_result"
    }
   ],
   "source": [
    "s[0].isupper()"
   ]
  },
  {
   "cell_type": "code",
   "execution_count": 5,
   "metadata": {},
   "outputs": [
    {
     "data": {
      "text/plain": [
       "True"
      ]
     },
     "execution_count": 5,
     "metadata": {},
     "output_type": "execute_result"
    }
   ],
   "source": [
    "s[1].isupper()"
   ]
  },
  {
   "cell_type": "code",
   "execution_count": 10,
   "metadata": {},
   "outputs": [
    {
     "name": "stdout",
     "output_type": "stream",
     "text": [
      "Enter a stringINdIan\n",
      "INdIan\n"
     ]
    }
   ],
   "source": [
    "s=input('Enter a string')\n",
    "count=0\n",
    "for i in range(4):\n",
    "    if s[i].isupper():\n",
    "        count+=1\n",
    "if count==2:\n",
    "    print(s.upper())\n",
    "else:\n",
    "     print(s)"
   ]
  },
  {
   "cell_type": "code",
   "execution_count": 11,
   "metadata": {},
   "outputs": [],
   "source": [
    "s='hello world'"
   ]
  },
  {
   "cell_type": "code",
   "execution_count": 12,
   "metadata": {},
   "outputs": [
    {
     "data": {
      "text/plain": [
       "2"
      ]
     },
     "execution_count": 12,
     "metadata": {},
     "output_type": "execute_result"
    }
   ],
   "source": [
    "s.index('l')"
   ]
  },
  {
   "cell_type": "code",
   "execution_count": 13,
   "metadata": {},
   "outputs": [
    {
     "data": {
      "text/plain": [
       "9"
      ]
     },
     "execution_count": 13,
     "metadata": {},
     "output_type": "execute_result"
    }
   ],
   "source": [
    "s.rindex('l')"
   ]
  },
  {
   "cell_type": "code",
   "execution_count": 14,
   "metadata": {},
   "outputs": [
    {
     "data": {
      "text/plain": [
       "'h'"
      ]
     },
     "execution_count": 14,
     "metadata": {},
     "output_type": "execute_result"
    }
   ],
   "source": [
    "s[0]"
   ]
  },
  {
   "cell_type": "code",
   "execution_count": 18,
   "metadata": {},
   "outputs": [
    {
     "name": "stdout",
     "output_type": "stream",
     "text": [
      "Index of h: 0\n",
      "Index of e: 1\n",
      "Index of l: 2\n",
      "Index of l: 3\n",
      "Index of o: 4\n",
      "Index of  : 5\n",
      "Index of w: 6\n",
      "Index of o: 7\n",
      "Index of r: 8\n",
      "Index of l: 9\n",
      "Index of d: 10\n"
     ]
    }
   ],
   "source": [
    "for i in range(len(s)):\n",
    "    print(f\"Index of {s[i]}: {i}\")"
   ]
  },
  {
   "cell_type": "code",
   "execution_count": 26,
   "metadata": {},
   "outputs": [
    {
     "name": "stdout",
     "output_type": "stream",
     "text": [
      "*\n",
      "**\n",
      "***\n",
      "****\n",
      "*****\n",
      "******\n",
      "*******\n",
      "********\n",
      "*********\n",
      "**********\n"
     ]
    }
   ],
   "source": [
    "for row in range(1,11):\n",
    "    for col in range(1,11):\n",
    "        if col <= row:\n",
    "            print('*',end='')\n",
    "    print()"
   ]
  },
  {
   "cell_type": "code",
   "execution_count": 30,
   "metadata": {},
   "outputs": [
    {
     "name": "stdout",
     "output_type": "stream",
     "text": [
      "A\n",
      "AB\n",
      "ABC\n",
      "ABCD\n",
      "ABCDE\n",
      "ABCDEF\n",
      "ABCDEFG\n",
      "ABCDEFGH\n",
      "ABCDEFGHI\n",
      "ABCDEFGHIJ\n"
     ]
    }
   ],
   "source": [
    "for row in range(1,11):\n",
    "    for col in range(1,11):\n",
    "        if col <= row:\n",
    "            print(chr(col+64),end='')\n",
    "    print()"
   ]
  },
  {
   "cell_type": "code",
   "execution_count": 28,
   "metadata": {},
   "outputs": [
    {
     "data": {
      "text/plain": [
       "65"
      ]
     },
     "execution_count": 28,
     "metadata": {},
     "output_type": "execute_result"
    }
   ],
   "source": [
    "ord('A')"
   ]
  },
  {
   "cell_type": "code",
   "execution_count": 29,
   "metadata": {},
   "outputs": [
    {
     "data": {
      "text/plain": [
       "'A'"
      ]
     },
     "execution_count": 29,
     "metadata": {},
     "output_type": "execute_result"
    }
   ],
   "source": [
    "chr(65)"
   ]
  },
  {
   "cell_type": "code",
   "execution_count": 36,
   "metadata": {},
   "outputs": [
    {
     "name": "stdout",
     "output_type": "stream",
     "text": [
      "A                         \tA                         \tA\n",
      "AB                        \tAB                        \tAB\n",
      "ABC                       \tABC                       \tABC\n",
      "ABCD                      \tABCD                      \tABCD\n",
      "ABCDE                     \tABCDE                     \tABCDE\n",
      "ABCDEF                    \tABCDEF                    \tABCDEF\n",
      "ABCDEFG                   \tABCDEFG                   \tABCDEFG\n",
      "ABCDEFGH                  \tABCDEFGH                  \tABCDEFGH\n",
      "ABCDEFGHI                 \tABCDEFGHI                 \tABCDEFGHI\n",
      "ABCDEFGHIJ                \tABCDEFGHIJ                \tABCDEFGHIJ\n",
      "ABCDEFGHIJK               \tABCDEFGHIJK               \tABCDEFGHIJK\n",
      "ABCDEFGHIJKL              \tABCDEFGHIJKL              \tABCDEFGHIJKL\n",
      "ABCDEFGHIJKLM             \tABCDEFGHIJKLM             \tABCDEFGHIJKLM\n",
      "ABCDEFGHIJKLMN            \tABCDEFGHIJKLMN            \tABCDEFGHIJKLMN\n",
      "ABCDEFGHIJKLMNO           \tABCDEFGHIJKLMNO           \tABCDEFGHIJKLMNO\n",
      "ABCDEFGHIJKLMNOP          \tABCDEFGHIJKLMNOP          \tABCDEFGHIJKLMNOP\n",
      "ABCDEFGHIJKLMNOPQ         \tABCDEFGHIJKLMNOPQ         \tABCDEFGHIJKLMNOPQ\n",
      "ABCDEFGHIJKLMNOPQR        \tABCDEFGHIJKLMNOPQR        \tABCDEFGHIJKLMNOPQR\n",
      "ABCDEFGHIJKLMNOPQRS       \tABCDEFGHIJKLMNOPQRS       \tABCDEFGHIJKLMNOPQRS\n",
      "ABCDEFGHIJKLMNOPQRST      \tABCDEFGHIJKLMNOPQRST      \tABCDEFGHIJKLMNOPQRST\n",
      "ABCDEFGHIJKLMNOPQRSTU     \tABCDEFGHIJKLMNOPQRSTU     \tABCDEFGHIJKLMNOPQRSTU\n",
      "ABCDEFGHIJKLMNOPQRSTUV    \tABCDEFGHIJKLMNOPQRSTUV    \tABCDEFGHIJKLMNOPQRSTUV\n",
      "ABCDEFGHIJKLMNOPQRSTUVW   \tABCDEFGHIJKLMNOPQRSTUVW   \tABCDEFGHIJKLMNOPQRSTUVW\n",
      "ABCDEFGHIJKLMNOPQRSTUVWX  \tABCDEFGHIJKLMNOPQRSTUVWX  \tABCDEFGHIJKLMNOPQRSTUVWX\n",
      "ABCDEFGHIJKLMNOPQRSTUVWXY \tABCDEFGHIJKLMNOPQRSTUVWXY \tABCDEFGHIJKLMNOPQRSTUVWXY\n",
      "ABCDEFGHIJKLMNOPQRSTUVWXYZ\tABCDEFGHIJKLMNOPQRSTUVWXYZ\tABCDEFGHIJKLMNOPQRSTUVWXYZ\n"
     ]
    }
   ],
   "source": [
    "for row in range(1,27):\n",
    "    for col in range(1,27):\n",
    "        if col <= row:\n",
    "            print(chr(col+64),end='')\n",
    "        else:\n",
    "            print(' ',end='')\n",
    "    print(end='\\t')\n",
    "    for col in range(1,27):\n",
    "        if col <= row:\n",
    "            print(chr(col+64),end='')\n",
    "        else:\n",
    "            print(' ',end='')\n",
    "    print(end='\\t')\n",
    "    \n",
    "    for col in range(1,27):\n",
    "        if col <= row:\n",
    "            print(chr(col+64),end='')\n",
    "    print()"
   ]
  },
  {
   "cell_type": "code",
   "execution_count": 8,
   "metadata": {},
   "outputs": [
    {
     "name": "stdout",
     "output_type": "stream",
     "text": [
      "         *          \n",
      "        ***         \n",
      "       *****        \n",
      "      *******       \n",
      "     *********      \n",
      "    ***********     \n",
      "   *************    \n",
      "  ***************   \n",
      " *****************  \n",
      "******************* \n"
     ]
    }
   ],
   "source": [
    "r=1\n",
    "while r <=10 :\n",
    "    c=1\n",
    "    while c<=10:\n",
    "        if c<=10-r:\n",
    "            print(' ',end='')\n",
    "        else:\n",
    "            print('*',end='')\n",
    "        c+=1\n",
    "    \n",
    "    c=1\n",
    "    while c<=10:\n",
    "        if c<=r-1:\n",
    "            print('*',end='')\n",
    "        else:\n",
    "            print(' ',end='')\n",
    "        c+=1\n",
    "    print()\n",
    "    r+=1"
   ]
  },
  {
   "cell_type": "code",
   "execution_count": 11,
   "metadata": {},
   "outputs": [
    {
     "name": "stdout",
     "output_type": "stream",
     "text": [
      "**********\n",
      "********* \n",
      "********  \n",
      "*******   \n",
      "******    \n",
      "*****     \n",
      "****      \n",
      "***       \n",
      "**        \n",
      "*         \n"
     ]
    }
   ],
   "source": [
    "r=1\n",
    "while r <=10 :\n",
    "    c=1\n",
    "    while c<=10:\n",
    "        if c<=10-r+1:\n",
    "            print('*',end='')\n",
    "        else:\n",
    "            print(' ',end='')\n",
    "        c+=1\n",
    "    print()\n",
    "    r+=1"
   ]
  },
  {
   "cell_type": "code",
   "execution_count": 17,
   "metadata": {},
   "outputs": [
    {
     "name": "stdout",
     "output_type": "stream",
     "text": [
      "******************* \n",
      " *****************  \n",
      "  ***************   \n",
      "   *************    \n",
      "    ***********     \n",
      "     *********      \n",
      "      *******       \n",
      "       *****        \n",
      "        ***         \n",
      "         *          \n"
     ]
    }
   ],
   "source": [
    "r=1\n",
    "while r <=10 :\n",
    "    c=1\n",
    "    while c<=10:\n",
    "        if c<=r-1:\n",
    "            print(' ',end='')\n",
    "        else:\n",
    "            print('*',end='')\n",
    "        c+=1\n",
    "\n",
    "    c=1\n",
    "    while c<=10:\n",
    "        if c<=10-r:\n",
    "            print('*',end='')\n",
    "        else:\n",
    "            print(' ',end='')\n",
    "        c+=1\n",
    "    print()\n",
    "    r+=1"
   ]
  },
  {
   "cell_type": "code",
   "execution_count": 20,
   "metadata": {},
   "outputs": [
    {
     "name": "stdout",
     "output_type": "stream",
     "text": [
      "         *          \n",
      "        ***         \n",
      "       *****        \n",
      "      *******       \n",
      "     *********      \n",
      "    ***********     \n",
      "   *************    \n",
      "  ***************   \n",
      " *****************  \n",
      "******************* \n",
      "******************* \n",
      " *****************  \n",
      "  ***************   \n",
      "   *************    \n",
      "    ***********     \n",
      "     *********      \n",
      "      *******       \n",
      "       *****        \n",
      "        ***         \n",
      "         *          \n"
     ]
    }
   ],
   "source": [
    "r=1\n",
    "while r <=10 :\n",
    "    c=1\n",
    "    while c<=10:\n",
    "        if c<=10-r:\n",
    "            print(' ',end='')\n",
    "        else:\n",
    "            print('*',end='')\n",
    "        c+=1\n",
    "    \n",
    "    c=1\n",
    "    while c<=10:\n",
    "        if c<=r-1:\n",
    "            print('*',end='')\n",
    "        else:\n",
    "            print(' ',end='')\n",
    "        c+=1\n",
    "    print()\n",
    "    r+=1\n",
    "    \n",
    "r=1\n",
    "while r <=10 :\n",
    "    c=1\n",
    "    while c<=10:\n",
    "        if c<=r-1:\n",
    "            print(' ',end='')\n",
    "        else:\n",
    "            print('*',end='')\n",
    "        c+=1\n",
    "\n",
    "    c=1\n",
    "    while c<=10:\n",
    "        if c<=10-r:\n",
    "            print('*',end='')\n",
    "        else:\n",
    "            print(' ',end='')\n",
    "        c+=1\n",
    "    print()\n",
    "    r+=1"
   ]
  },
  {
   "cell_type": "code",
   "execution_count": 21,
   "metadata": {},
   "outputs": [
    {
     "name": "stdout",
     "output_type": "stream",
     "text": [
      "******************* \n",
      " *****************  \n",
      "  ***************   \n",
      "   *************    \n",
      "    ***********     \n",
      "     *********      \n",
      "      *******       \n",
      "       *****        \n",
      "        ***         \n",
      "         *          \n",
      "         *          \n",
      "        ***         \n",
      "       *****        \n",
      "      *******       \n",
      "     *********      \n",
      "    ***********     \n",
      "   *************    \n",
      "  ***************   \n",
      " *****************  \n",
      "******************* \n"
     ]
    }
   ],
   "source": [
    "\n",
    "    \n",
    "r=1\n",
    "while r <=10 :\n",
    "    c=1\n",
    "    while c<=10:\n",
    "        if c<=r-1:\n",
    "            print(' ',end='')\n",
    "        else:\n",
    "            print('*',end='')\n",
    "        c+=1\n",
    "\n",
    "    c=1\n",
    "    while c<=10:\n",
    "        if c<=10-r:\n",
    "            print('*',end='')\n",
    "        else:\n",
    "            print(' ',end='')\n",
    "        c+=1\n",
    "    print()\n",
    "    r+=1\n",
    "r=1\n",
    "while r <=10 :\n",
    "    c=1\n",
    "    while c<=10:\n",
    "        if c<=10-r:\n",
    "            print(' ',end='')\n",
    "        else:\n",
    "            print('*',end='')\n",
    "        c+=1\n",
    "    \n",
    "    c=1\n",
    "    while c<=10:\n",
    "        if c<=r-1:\n",
    "            print('*',end='')\n",
    "        else:\n",
    "            print(' ',end='')\n",
    "        c+=1\n",
    "    print()\n",
    "    r+=1"
   ]
  },
  {
   "cell_type": "code",
   "execution_count": 35,
   "metadata": {
    "scrolled": true
   },
   "outputs": [
    {
     "name": "stdout",
     "output_type": "stream",
     "text": [
      "********************\n",
      "*********  *********\n",
      "********    ********\n",
      "*******      *******\n",
      "******        ******\n",
      "*****          *****\n",
      "****            ****\n",
      "***              ***\n",
      "**                **\n",
      "*                  *\n",
      "*                  *\n",
      "**                **\n",
      "***              ***\n",
      "****            ****\n",
      "*****          *****\n",
      "******        ******\n",
      "*******      *******\n",
      "********    ********\n",
      "*********  *********\n",
      "********************\n"
     ]
    }
   ],
   "source": [
    " \n",
    "r=1\n",
    "while r <=10 :\n",
    "    \n",
    "    c=1\n",
    "    while c<=10:\n",
    "        if c<=10-r+1:\n",
    "            print('*',end='')\n",
    "        else:\n",
    "            print(' ',end='')\n",
    "        c+=1\n",
    "    c=1\n",
    "    while c<=10:\n",
    "        if c<=r-1:\n",
    "            print(' ',end='')\n",
    "        else:\n",
    "            print('*',end='')\n",
    "        c+=1\n",
    "\n",
    "    print()\n",
    "    r+=1\n",
    "r=1\n",
    "while r <=10 :\n",
    "   \n",
    "    c=1\n",
    "    while c<=10:\n",
    "        if c<=r:\n",
    "            print('*',end='')\n",
    "        else:\n",
    "            print(' ',end='')\n",
    "        c+=1\n",
    "    c=1\n",
    "    while c<=10:\n",
    "        if c<=10-r:\n",
    "            print(' ',end='')\n",
    "        else:\n",
    "            print('*',end='')\n",
    "        c+=1\n",
    "    \n",
    "    print()\n",
    "    r+=1"
   ]
  },
  {
   "cell_type": "code",
   "execution_count": 37,
   "metadata": {},
   "outputs": [
    {
     "name": "stdout",
     "output_type": "stream",
     "text": [
      "1234567891012345678910\n",
      "123456789  2345678910\n",
      "12345678    345678910\n",
      "1234567      45678910\n",
      "123456        5678910\n",
      "12345          678910\n",
      "1234            78910\n",
      "123              8910\n",
      "12                910\n",
      "1                  10\n",
      "1                  10\n",
      "12                910\n",
      "123              8910\n",
      "1234            78910\n",
      "12345          678910\n",
      "123456        5678910\n",
      "1234567      45678910\n",
      "12345678    345678910\n",
      "123456789  2345678910\n",
      "1234567891012345678910\n"
     ]
    }
   ],
   "source": [
    " \n",
    "r=1\n",
    "while r <=10 :\n",
    "    \n",
    "    c=1\n",
    "    while c<=10:\n",
    "        if c<=10-r+1:\n",
    "            print(c,end='')\n",
    "        else:\n",
    "            print(' ',end='')\n",
    "        c+=1\n",
    "    c=1\n",
    "    while c<=10:\n",
    "        if c<=r-1:\n",
    "            print(' ',end='')\n",
    "        else:\n",
    "            print(c,end='')\n",
    "        c+=1\n",
    "\n",
    "    print()\n",
    "    r+=1\n",
    "r=1\n",
    "while r <=10 :\n",
    "   \n",
    "    c=1\n",
    "    while c<=10:\n",
    "        if c<=r:\n",
    "            print(c,end='')\n",
    "        else:\n",
    "            print(' ',end='')\n",
    "        c+=1\n",
    "    c=1\n",
    "    while c<=10:\n",
    "        if c<=10-r:\n",
    "            print(' ',end='')\n",
    "        else:\n",
    "            print(c,end='')\n",
    "        c+=1\n",
    "    \n",
    "    print()\n",
    "    r+=1"
   ]
  },
  {
   "cell_type": "code",
   "execution_count": 38,
   "metadata": {},
   "outputs": [
    {
     "name": "stdout",
     "output_type": "stream",
     "text": [
      "ABCDEFGHIJABCDEFGHIJ\n",
      "ABCDEFGHI  BCDEFGHIJ\n",
      "ABCDEFGH    CDEFGHIJ\n",
      "ABCDEFG      DEFGHIJ\n",
      "ABCDEF        EFGHIJ\n",
      "ABCDE          FGHIJ\n",
      "ABCD            GHIJ\n",
      "ABC              HIJ\n",
      "AB                IJ\n",
      "A                  J\n",
      "A                  J\n",
      "AB                IJ\n",
      "ABC              HIJ\n",
      "ABCD            GHIJ\n",
      "ABCDE          FGHIJ\n",
      "ABCDEF        EFGHIJ\n",
      "ABCDEFG      DEFGHIJ\n",
      "ABCDEFGH    CDEFGHIJ\n",
      "ABCDEFGHI  BCDEFGHIJ\n",
      "ABCDEFGHIJABCDEFGHIJ\n"
     ]
    }
   ],
   "source": [
    " \n",
    "r=1\n",
    "while r <=10 :\n",
    "    \n",
    "    c=1\n",
    "    while c<=10:\n",
    "        if c<=10-r+1:\n",
    "            print(chr(c+64),end='')\n",
    "        else:\n",
    "            print(' ',end='')\n",
    "        c+=1\n",
    "    c=1\n",
    "    while c<=10:\n",
    "        if c<=r-1:\n",
    "            print(' ',end='')\n",
    "        else:\n",
    "            print(chr(c+64),end='')\n",
    "        c+=1\n",
    "\n",
    "    print()\n",
    "    r+=1\n",
    "r=1\n",
    "while r <=10 :\n",
    "   \n",
    "    c=1\n",
    "    while c<=10:\n",
    "        if c<=r:\n",
    "            print(chr(c+64),end='')\n",
    "        else:\n",
    "            print(' ',end='')\n",
    "        c+=1\n",
    "    c=1\n",
    "    while c<=10:\n",
    "        if c<=10-r:\n",
    "            print(' ',end='')\n",
    "        else:\n",
    "            print(chr(c+64),end='')\n",
    "        c+=1\n",
    "    \n",
    "    print()\n",
    "    r+=1"
   ]
  },
  {
   "cell_type": "code",
   "execution_count": 39,
   "metadata": {},
   "outputs": [
    {
     "name": "stdout",
     "output_type": "stream",
     "text": [
      "ABCDEFGHIJKLMNOPQRSTUVWXYZABCDEFGHIJKLMNOPQRSTUVWXYZ\n",
      "ABCDEFGHIJKLMNOPQRSTUVWXY  BCDEFGHIJKLMNOPQRSTUVWXYZ\n",
      "ABCDEFGHIJKLMNOPQRSTUVWX    CDEFGHIJKLMNOPQRSTUVWXYZ\n",
      "ABCDEFGHIJKLMNOPQRSTUVW      DEFGHIJKLMNOPQRSTUVWXYZ\n",
      "ABCDEFGHIJKLMNOPQRSTUV        EFGHIJKLMNOPQRSTUVWXYZ\n",
      "ABCDEFGHIJKLMNOPQRSTU          FGHIJKLMNOPQRSTUVWXYZ\n",
      "ABCDEFGHIJKLMNOPQRST            GHIJKLMNOPQRSTUVWXYZ\n",
      "ABCDEFGHIJKLMNOPQRS              HIJKLMNOPQRSTUVWXYZ\n",
      "ABCDEFGHIJKLMNOPQR                IJKLMNOPQRSTUVWXYZ\n",
      "ABCDEFGHIJKLMNOPQ                  JKLMNOPQRSTUVWXYZ\n",
      "ABCDEFGHIJKLMNOP                    KLMNOPQRSTUVWXYZ\n",
      "ABCDEFGHIJKLMNO                      LMNOPQRSTUVWXYZ\n",
      "ABCDEFGHIJKLMN                        MNOPQRSTUVWXYZ\n",
      "ABCDEFGHIJKLM                          NOPQRSTUVWXYZ\n",
      "ABCDEFGHIJKL                            OPQRSTUVWXYZ\n",
      "ABCDEFGHIJK                              PQRSTUVWXYZ\n",
      "ABCDEFGHIJ                                QRSTUVWXYZ\n",
      "ABCDEFGHI                                  RSTUVWXYZ\n",
      "ABCDEFGH                                    STUVWXYZ\n",
      "ABCDEFG                                      TUVWXYZ\n",
      "ABCDEF                                        UVWXYZ\n",
      "ABCDE                                          VWXYZ\n",
      "ABCD                                            WXYZ\n",
      "ABC                                              XYZ\n",
      "AB                                                YZ\n",
      "A                                                  Z\n",
      "A                                                  Z\n",
      "AB                                                YZ\n",
      "ABC                                              XYZ\n",
      "ABCD                                            WXYZ\n",
      "ABCDE                                          VWXYZ\n",
      "ABCDEF                                        UVWXYZ\n",
      "ABCDEFG                                      TUVWXYZ\n",
      "ABCDEFGH                                    STUVWXYZ\n",
      "ABCDEFGHI                                  RSTUVWXYZ\n",
      "ABCDEFGHIJ                                QRSTUVWXYZ\n",
      "ABCDEFGHIJK                              PQRSTUVWXYZ\n",
      "ABCDEFGHIJKL                            OPQRSTUVWXYZ\n",
      "ABCDEFGHIJKLM                          NOPQRSTUVWXYZ\n",
      "ABCDEFGHIJKLMN                        MNOPQRSTUVWXYZ\n",
      "ABCDEFGHIJKLMNO                      LMNOPQRSTUVWXYZ\n",
      "ABCDEFGHIJKLMNOP                    KLMNOPQRSTUVWXYZ\n",
      "ABCDEFGHIJKLMNOPQ                  JKLMNOPQRSTUVWXYZ\n",
      "ABCDEFGHIJKLMNOPQR                IJKLMNOPQRSTUVWXYZ\n",
      "ABCDEFGHIJKLMNOPQRS              HIJKLMNOPQRSTUVWXYZ\n",
      "ABCDEFGHIJKLMNOPQRST            GHIJKLMNOPQRSTUVWXYZ\n",
      "ABCDEFGHIJKLMNOPQRSTU          FGHIJKLMNOPQRSTUVWXYZ\n",
      "ABCDEFGHIJKLMNOPQRSTUV        EFGHIJKLMNOPQRSTUVWXYZ\n",
      "ABCDEFGHIJKLMNOPQRSTUVW      DEFGHIJKLMNOPQRSTUVWXYZ\n",
      "ABCDEFGHIJKLMNOPQRSTUVWX    CDEFGHIJKLMNOPQRSTUVWXYZ\n",
      "ABCDEFGHIJKLMNOPQRSTUVWXY  BCDEFGHIJKLMNOPQRSTUVWXYZ\n",
      "ABCDEFGHIJKLMNOPQRSTUVWXYZABCDEFGHIJKLMNOPQRSTUVWXYZ\n"
     ]
    }
   ],
   "source": [
    "r=1\n",
    "while r <=26 :\n",
    "    \n",
    "    c=1\n",
    "    while c<=26:\n",
    "        if c<=26-r+1:\n",
    "            print(chr(c+64),end='')\n",
    "        else:\n",
    "            print(' ',end='')\n",
    "        c+=1\n",
    "    c=1\n",
    "    while c<=26:\n",
    "        if c<=r-1:\n",
    "            print(' ',end='')\n",
    "        else:\n",
    "            print(chr(c+64),end='')\n",
    "        c+=1\n",
    "\n",
    "    print()\n",
    "    r+=1\n",
    "r=1\n",
    "while r <=26 :\n",
    "   \n",
    "    c=1\n",
    "    while c<=26:\n",
    "        if c<=r:\n",
    "            print(chr(c+64),end='')\n",
    "        else:\n",
    "            print(' ',end='')\n",
    "        c+=1\n",
    "    c=1\n",
    "    while c<=26:\n",
    "        if c<=26-r:\n",
    "            print(' ',end='')\n",
    "        else:\n",
    "            print(chr(c+64),end='')\n",
    "        c+=1\n",
    "    \n",
    "    print()\n",
    "    r+=1"
   ]
  },
  {
   "cell_type": "code",
   "execution_count": 40,
   "metadata": {},
   "outputs": [
    {
     "name": "stdout",
     "output_type": "stream",
     "text": [
      "1\n",
      "12\n",
      "123\n",
      "1234\n",
      "12345\n",
      "123456\n",
      "1234567\n",
      "12345678\n",
      "123456789\n",
      "12345678910\n"
     ]
    }
   ],
   "source": [
    "for row in range(1,11):\n",
    "    for col in range(1,11):\n",
    "        if col <= row:\n",
    "            print(col,end='')\n",
    "    print()"
   ]
  },
  {
   "cell_type": "code",
   "execution_count": 42,
   "metadata": {},
   "outputs": [
    {
     "name": "stdout",
     "output_type": "stream",
     "text": [
      "1\n",
      "22\n",
      "333\n",
      "4444\n",
      "55555\n",
      "666666\n",
      "7777777\n",
      "88888888\n",
      "999999999\n",
      "10101010101010101010\n"
     ]
    }
   ],
   "source": [
    "for row in range(1,11):\n",
    "    for col in range(1,11):\n",
    "        if col <= row:\n",
    "            print(row,end='')\n",
    "    print()"
   ]
  },
  {
   "cell_type": "code",
   "execution_count": 44,
   "metadata": {},
   "outputs": [
    {
     "name": "stdout",
     "output_type": "stream",
     "text": [
      "1\n",
      "22\n",
      "333\n",
      "4444\n",
      "55555\n",
      "666666\n",
      "7777777\n",
      "88888888\n",
      "999999999\n",
      "10101010101010101010\n"
     ]
    }
   ],
   "source": [
    "for  i in range(1,11):\n",
    "    print(f\"{str(i)*i}\")"
   ]
  },
  {
   "cell_type": "code",
   "execution_count": 45,
   "metadata": {},
   "outputs": [
    {
     "name": "stdout",
     "output_type": "stream",
     "text": [
      "*\n",
      "**\n",
      "***\n",
      "****\n",
      "*****\n",
      "******\n",
      "*******\n",
      "********\n",
      "*********\n",
      "**********\n"
     ]
    }
   ],
   "source": [
    "for i in range(1,11):\n",
    "    print('*'*i)"
   ]
  },
  {
   "cell_type": "code",
   "execution_count": null,
   "metadata": {},
   "outputs": [],
   "source": []
  }
 ],
 "metadata": {
  "kernelspec": {
   "display_name": "Python 3",
   "language": "python",
   "name": "python3"
  },
  "language_info": {
   "codemirror_mode": {
    "name": "ipython",
    "version": 3
   },
   "file_extension": ".py",
   "mimetype": "text/x-python",
   "name": "python",
   "nbconvert_exporter": "python",
   "pygments_lexer": "ipython3",
   "version": "3.7.3"
  }
 },
 "nbformat": 4,
 "nbformat_minor": 2
}
