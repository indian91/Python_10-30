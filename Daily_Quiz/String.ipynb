{
 "cells": [
  {
   "cell_type": "markdown",
   "metadata": {},
   "source": [
    "<div style='border:1px solid green;text-align:center;width:400px;height:auto;margin-left:220px;'>\n",
    "    <h2 style='margin-left:30px;margin-top:1px;color:orange;font-style:italic'>Everyday Basis 5 min Quiz :)</h2>\n",
    "</div>"
   ]
  },
  {
   "cell_type": "markdown",
   "metadata": {},
   "source": [
    "<h3>1. What will be the output of the following Python code?</h3><br>\n",
    "<p style='margin-left:20px;color:blue'>print('ab12'.isalnum())\n",
    "</p><br>\n",
    "\n",
    "<div style='margin-left:30px;'>\n",
    "<form>\n",
    "    A)<input type='radio' style='margin-left:10px;'><label> True</label><br>\n",
    "    B)<input type='radio' style='margin-left:10px;'><label> False</label><br>\n",
    "    C)<input type='radio' style='margin-left:10px;'><label> Error</label><br>\n",
    "    D)<input type='radio' style='margin-left:10px;'><label> None</label><br>\n",
    "</form>\n",
    "</div>"
   ]
  },
  {
   "cell_type": "markdown",
   "metadata": {},
   "source": [
    "<h3>2. What will be the output of the following Python code?</h3><br>\n",
    "<p style='margin-left:20px;color:blue'>print('xyyxyyzxyy'.lstrip('xyy'))\n",
    "</p><br>\n",
    "\n",
    "<div style='margin-left:30px;'>\n",
    "<form>\n",
    "    A)<input type='radio' style='margin-left:10px;'><label> xyyzxyy</label><br>\n",
    "    B)<input type='radio' style='margin-left:10px;'><label> zxxy</label><br>\n",
    "    C)<input type='radio' style='margin-left:10px;'><label> zxyy</label><br>\n",
    "    D)<input type='radio' style='margin-left:10px;'><label> xyyxyyzxyy</label><br>\n",
    "</form>\n",
    "</div>"
   ]
  },
  {
   "cell_type": "markdown",
   "metadata": {},
   "source": [
    "<h3>3. What will be the output of the following Python code?</h3><br>\n",
    "<p style='margin-left:20px;color:blue'>print('Hello world to Python'.split('O'))\n",
    "</p><br>\n",
    "\n",
    "<div style='margin-left:30px;'>\n",
    "<form>\n",
    "    A)<input type='radio' style='margin-left:10px;'><label> Error</label><br>\n",
    "    B)<input type='radio' style='margin-left:10px;'><label> ['Hello world to Python']</label><br>\n",
    "    C)<input type='radio' style='margin-left:10px;'><label> ['Hell', ' w', 'rld t', ' Pyth', 'n']</label><br>\n",
    "    D)<input type='radio' style='margin-left:10px;'><label> None</label><br>\n",
    "</form>\n",
    "</div>"
   ]
  },
  {
   "cell_type": "markdown",
   "metadata": {},
   "source": [
    "<h3>4. What will be the output of the following Python code? x=12345</h3><br>\n",
    "<p style='margin-left:20px;color:blue'>'*'.join(x)\n",
    "</p><br>\n",
    "\n",
    "<div style='margin-left:30px;'>\n",
    "<form>\n",
    "    A)<input type='radio' style='margin-left:10px;'><label> Error</label><br>\n",
    "    B)<input type='radio' style='margin-left:10px;'><label> None</label><br>\n",
    "    C)<input type='radio' style='margin-left:10px;'><label> 1*2*3*4*5</label><br>\n",
    "    D)<input type='radio' style='margin-left:10px;'><label> *12345*</label><br>\n",
    "</form>\n",
    "</div>"
   ]
  },
  {
   "cell_type": "markdown",
   "metadata": {},
   "source": [
    "<h3>5. What will be the output of the following Python code?</h3><br>\n",
    "<p style='margin-left:20px;color:blue'>exp='hello world to python'<br> exp [6:16:-1]\n",
    "</p><br>\n",
    "\n",
    "<div style='margin-left:30px;'>\n",
    "<form>\n",
    "    A)<input type='radio' style='margin-left:10px;'><label> Error</label><br>\n",
    "    B)<input type='radio' style='margin-left:10px;'><label> None</label><br>\n",
    "    C)<input type='radio' style='margin-left:10px;'><label> '' (blank string)</label><br>\n",
    "    D)<input type='radio' style='margin-left:10px;'><label> 'world to p'</label><br>\n",
    "</form>\n",
    "</div>"
   ]
  },
  {
   "cell_type": "code",
   "execution_count": null,
   "metadata": {},
   "outputs": [],
   "source": []
  }
 ],
 "metadata": {
  "kernelspec": {
   "display_name": "Python 3",
   "language": "python",
   "name": "python3"
  },
  "language_info": {
   "codemirror_mode": {
    "name": "ipython",
    "version": 3
   },
   "file_extension": ".py",
   "mimetype": "text/x-python",
   "name": "python",
   "nbconvert_exporter": "python",
   "pygments_lexer": "ipython3",
   "version": "3.7.3"
  }
 },
 "nbformat": 4,
 "nbformat_minor": 2
}
