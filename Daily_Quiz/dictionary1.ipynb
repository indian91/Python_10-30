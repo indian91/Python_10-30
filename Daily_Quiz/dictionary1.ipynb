{
 "cells": [
  {
   "cell_type": "markdown",
   "metadata": {},
   "source": [
    "<div style='border:1px solid green;text-align:center;width:400px;height:auto;margin-left:220px;'>\n",
    "    <h2 style='margin-left:30px;margin-top:1px;color:orange;font-style:italic'>Everyday Basis 5 min Quiz :)</h2>\n",
    "</div>"
   ]
  },
  {
   "cell_type": "markdown",
   "metadata": {},
   "source": [
    "<h3>1. What will be the output of the following Python code?</h3><br>\n",
    "<p style='margin-left:20px;color:blue'>test = {1:'A', 2:'B', 3:'C'}<br>\n",
    "test = {}<br>\n",
    "print(len(test))<br>\n",
    "</p><br>\n",
    "\n",
    "<div style='margin-left:30px;'>\n",
    "<form>\n",
    "    A)<input type='radio' style='margin-left:10px;'><label> 0</label><br>\n",
    "    B)<input type='radio' style='margin-left:10px;'><label> 3</label><br>\n",
    "    C)<input type='radio' style='margin-left:10px;'><label>Error</label><br>\n",
    "    D)<input type='radio' style='margin-left:10px;'><label> None</label><br>\n",
    "</form>\n",
    "</div>"
   ]
  },
  {
   "cell_type": "markdown",
   "metadata": {},
   "source": [
    "<h3>2. What will be the output of the following Python code?</h3><br>\n",
    "<p style='margin-left:20px;color:blue'>a={}<br>\n",
    "a['a']=1<br>\n",
    "a['b']=[2,3,4]<br>\n",
    "print(a)<br>\n",
    "</p><br>\n",
    "\n",
    "<div style='margin-left:30px;'>\n",
    "<form>\n",
    "    A)<input type='radio' style='margin-left:10px;'><label> Error</label><br>\n",
    "    B)<input type='radio' style='margin-left:10px;'><label> {'a':1,'b':[2,3,4]}</label><br>\n",
    "    C)<input type='radio' style='margin-left:10px;'><label>{'a':1,'b':2}</label><br>\n",
    "    D)<input type='radio' style='margin-left:10px;'><label> {'b':[2,3,4],'a':1}</label><br>\n",
    "    \n",
    "</form>\n",
    "</div>"
   ]
  },
  {
   "cell_type": "markdown",
   "metadata": {},
   "source": [
    "<h3>3. What will be the output of the following Python code?</h3><br>\n",
    "<p style='margin-left:20px;color:blue'>a={}<br>\n",
    "a[2]=1<br>\n",
    "a[1]=[2,3,4]<br>\n",
    "print(a[1][1])<br>\n",
    "</p><br>\n",
    "\n",
    "<div style='margin-left:30px;'>\n",
    "<form>\n",
    "    A)<input type='radio' style='margin-left:10px;'><label> Error</label><br>\n",
    "    B)<input type='radio' style='margin-left:10px;'><label> {'a':1,'b':[2,3,4]}</label><br>\n",
    "    C)<input type='radio' style='margin-left:10px;'><label>{'a':1,'b':2}</label><br>\n",
    "    D)<input type='radio' style='margin-left:10px;'><label> {'b':[2,3,4],'a':1}</label><br>\n",
    "</form>\n",
    "</div>"
   ]
  },
  {
   "cell_type": "markdown",
   "metadata": {},
   "source": [
    "<h3>4. What will be the output of the following Python code?</h3><br>\n",
    "<p style='margin-left:20px;color:blue'>a={'Name':'Sachin','Course':'DS'}<br>\n",
    "print(a.setdefault('Name','Samyak'))\n",
    "<br>\n",
    "</p><br>\n",
    "\n",
    "<div style='margin-left:30px;'>\n",
    "<form>\n",
    "    A)<input type='radio' style='margin-left:10px;'><label> Error</label><br>\n",
    "    B)<input type='radio' style='margin-left:10px;'><label> None</label><br>\n",
    "    C)<input type='radio' style='margin-left:10px;'><label>'Samyak'</label><br>\n",
    "    D)<input type='radio' style='margin-left:10px;'><label>'Sachin'</label><br>\n",
    "</form>\n",
    "</div>"
   ]
  },
  {
   "cell_type": "markdown",
   "metadata": {},
   "source": [
    "<h3>5. What will be the output of the following Python code?</h3><br>\n",
    "<p style='margin-left:20px;color:blue'>a={'Name':'Sachin','Course':'Python'}<br>\n",
    "print(a.update(Course='DS'))<br>\n",
    "</p><br>\n",
    "\n",
    "<div style='margin-left:30px;'>\n",
    "<form>\n",
    "    A)<input type='radio' style='margin-left:10px;'><label> Error</label><br>\n",
    "    B)<input type='radio' style='margin-left:10px;'><label> None</label><br>\n",
    "    C)<input type='radio' style='margin-left:10px;'><label>{'Name':'Sachin','Course':'Python'}</label><br>\n",
    "    D)<input type='radio' style='margin-left:10px;'><label>{'Name':'Sachin','Course':'DS'}</label><br>\n",
    "</form>\n",
    "</div>"
   ]
  }
 ],
 "metadata": {
  "kernelspec": {
   "display_name": "Python 3",
   "language": "python",
   "name": "python3"
  },
  "language_info": {
   "codemirror_mode": {
    "name": "ipython",
    "version": 3
   },
   "file_extension": ".py",
   "mimetype": "text/x-python",
   "name": "python",
   "nbconvert_exporter": "python",
   "pygments_lexer": "ipython3",
   "version": "3.7.3"
  }
 },
 "nbformat": 4,
 "nbformat_minor": 2
}
