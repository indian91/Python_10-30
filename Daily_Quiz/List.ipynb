{
 "cells": [
  {
   "cell_type": "markdown",
   "metadata": {},
   "source": [
    "<div style='border:1px solid green;text-align:center;width:400px;height:auto;margin-left:220px;'>\n",
    "    <h2 style='margin-left:30px;margin-top:1px;color:orange;font-style:italic'>Everyday Basis 5 min Quiz :)</h2>\n",
    "</div>"
   ]
  },
  {
   "cell_type": "markdown",
   "metadata": {},
   "source": [
    "<h3>1. What will be the output of the following Python code?</h3><br>\n",
    "<p style='margin-left:20px;color:blue'>list(“hello”)?\n",
    "</p><br>\n",
    "\n",
    "<div style='margin-left:30px;'>\n",
    "<form>\n",
    "    A)<input type='radio' style='margin-left:10px;'><label> ['h','e','l','l','o']</label><br>\n",
    "    B)<input type='radio' style='margin-left:10px;'><label> ['hello']</label><br>\n",
    "    C)<input type='radio' style='margin-left:10px;'><label> Error</label><br>\n",
    "    D)<input type='radio' style='margin-left:10px;'><label> None</label><br>\n",
    "</form>\n",
    "</div>"
   ]
  },
  {
   "cell_type": "markdown",
   "metadata": {},
   "source": [
    "<h3>2. Suppose list1 is [2, 33, 222, 14, 25], What is list1[:-1]?</h3><br>\n",
    "<p style='margin-left:20px;color:blue'>\n",
    "</p><br>\n",
    "\n",
    "<div style='margin-left:30px;'>\n",
    "<form>\n",
    "    A)<input type='radio' style='margin-left:10px;'><label> [2, 33, 222, 14]</label><br>\n",
    "    B)<input type='radio' style='margin-left:10px;'><label> [25, 14, 222, 33, 2]</label><br>\n",
    "    C)<input type='radio' style='margin-left:10px;'><label> Error</label><br>\n",
    "    D)<input type='radio' style='margin-left:10px;'><label>25</label><br>\n",
    "</form>\n",
    "</div>"
   ]
  },
  {
   "cell_type": "markdown",
   "metadata": {},
   "source": [
    "<h3>3. What will be the output of the following Python code?</h3><br>\n",
    "<p style='margin-left:20px;color:blue'>>>>names = ['Amir', 'Bear', 'Charlton', 'Daman']<br>\n",
    ">>>print(names[-1][-1])\n",
    "</p><br>\n",
    "\n",
    "<div style='margin-left:30px;'>\n",
    "<form>\n",
    "    A)<input type='radio' style='margin-left:10px;'><label> ['Amir', 'Bear', 'Charlton', 'Daman']</label><br>\n",
    "    B)<input type='radio' style='margin-left:10px;'><label> ['Daman']</label><br>\n",
    "    C)<input type='radio' style='margin-left:10px;'><label> 'n'</label><br>\n",
    "    D)<input type='radio' style='margin-left:10px;'><label> Error</label><br>\n",
    "</form>\n",
    "</div>"
   ]
  },
  {
   "cell_type": "markdown",
   "metadata": {},
   "source": [
    "<h3>4. Suppose listExample is [3, 4, 5, 20, 5, 25, 1, 3], what is list1 after listExample.extend([34, 5])?</h3><br>\n",
    "<p style='margin-left:20px;color:blue'>\n",
    "</p><br>\n",
    "\n",
    "<div style='margin-left:30px;'>\n",
    "<form>\n",
    "    A)<input type='radio' style='margin-left:10px;'><label>  [3, 4, 5, 20, 5, 25, 1, 3, 34, 5]</label><br>\n",
    "    B)<input type='radio' style='margin-left:10px;'><label>  [3, 4, 5, 20, 5, 25, 1, 3, 3, 4, 5]</label><br>\n",
    "    C)<input type='radio' style='margin-left:10px;'><label>  [3, 4, 5, 20, 5, 25, 1, 3, [34, 5]]</label><br>\n",
    "    D)<input type='radio' style='margin-left:10px;'><label>  Error</label><br>\n",
    "</form>\n",
    "</div>"
   ]
  },
  {
   "cell_type": "markdown",
   "metadata": {},
   "source": [
    "<h3>5. What will be the output of the following Python code?</h3><br>\n",
    "<p style='margin-left:20px;color:blue'>>>>list1 = [1, 3]<br>\n",
    ">>>list2 = list1<br>\n",
    ">>>list1[0] = 4<br>\n",
    ">>>print(list2)\n",
    "</p><br>\n",
    "\n",
    "<div style='margin-left:30px;'>\n",
    "<form>\n",
    "    A)<input type='radio' style='margin-left:10px;'><label> [4,3]</label><br>\n",
    "    B)<input type='radio' style='margin-left:10px;'><label> [1,4]</label><br>\n",
    "    C)<input type='radio' style='margin-left:10px;'><label> [1,3,4]</label><br>\n",
    "    D)<input type='radio' style='margin-left:10px;'><label> Error</label><br>\n",
    "</form>\n",
    "</div>"
   ]
  }
 ],
 "metadata": {
  "kernelspec": {
   "display_name": "Python 3",
   "language": "python",
   "name": "python3"
  },
  "language_info": {
   "codemirror_mode": {
    "name": "ipython",
    "version": 3
   },
   "file_extension": ".py",
   "mimetype": "text/x-python",
   "name": "python",
   "nbconvert_exporter": "python",
   "pygments_lexer": "ipython3",
   "version": "3.7.3"
  }
 },
 "nbformat": 4,
 "nbformat_minor": 2
}
