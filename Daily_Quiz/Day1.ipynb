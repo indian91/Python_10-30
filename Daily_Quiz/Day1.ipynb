{
 "cells": [
  {
   "cell_type": "markdown",
   "metadata": {},
   "source": [
    "<div style='border:1px solid green;text-align:center;width:400px;height:auto;margin-left:220px;'>\n",
    "    <h2 style='margin-left:30px;margin-top:1px;color:orange;font-style:italic'>Everyday Basis 5 min Quiz :)</h2>\n",
    "</div>"
   ]
  },
  {
   "cell_type": "markdown",
   "metadata": {},
   "source": [
    "<h3>1. Is Python case sensitive when dealing with identifiers?</h3><br>\n",
    "<div style='margin-left:30px;'>\n",
    "<form>\n",
    "    A)<input type='radio' style='margin-left:10px;'><label> Yes</label><br>\n",
    "    B)<input type='radio' style='margin-left:10px;'><label> No</label><br>\n",
    "    C)<input type='radio' style='margin-left:10px;'><label> Machine Dependent</label><br>\n",
    "    D)<input type='radio' style='margin-left:10px;'><label> None of the Above</label><br>\n",
    "</form>\n",
    "</div>"
   ]
  },
  {
   "cell_type": "markdown",
   "metadata": {},
   "source": [
    "<h3>2.  Which of the following is an invalid variable?</h3><br>\n",
    "<div style='margin-left:30px;'>\n",
    "<form>\n",
    "    A)<input type='radio' style='margin-left:10px;'><label> my_string_1</label><br>\n",
    "    B)<input type='radio' style='margin-left:10px;'><label> 1st_string</label><br>\n",
    "    C)<input type='radio' style='margin-left:10px;'><label> foo</label><br>\n",
    "    D)<input type='radio' style='margin-left:10px;'><label> _</label><br>\n",
    "</form>\n",
    "</div>"
   ]
  },
  {
   "cell_type": "markdown",
   "metadata": {},
   "source": [
    "<h3>3.  Which of the following is an invalid statement?</h3><br>\n",
    "<div style='margin-left:30px;'>\n",
    "<form>\n",
    "    A)<input type='radio' style='margin-left:10px;'><label> abc = 1,000,000</label><br>\n",
    "    B)<input type='radio' style='margin-left:10px;'><label> a b c = 1000 2000 3000</label><br>\n",
    "    C)<input type='radio' style='margin-left:10px;'><label> a,b,c = 1000, 2000, 3000</label><br>\n",
    "    D)<input type='radio' style='margin-left:10px;'><label>  a_b_c = 1,000,000</label><br>\n",
    "</form>\n",
    "</div>"
   ]
  },
  {
   "cell_type": "markdown",
   "metadata": {},
   "source": [
    "<h3>4. What is output of -45%-6 ?</h3><br>\n",
    "<div style='margin-left:30px;'>\n",
    "<form>\n",
    "    A)<input type='radio' style='margin-left:10px;'><label>  3</label><br>\n",
    "    B)<input type='radio' style='margin-left:10px;'><label> -3</label><br>\n",
    "    C)<input type='radio' style='margin-left:10px;'><label>  0</label><br>\n",
    "    D)<input type='radio' style='margin-left:10px;'><label> None of the Above</label><br>\n",
    "</form>\n",
    "</div>\n"
   ]
  },
  {
   "cell_type": "markdown",
   "metadata": {},
   "source": [
    "<h3>5. what is the output of x ?</h3><br>\n",
    "<p style='margin-left:20px;color:blue'>x = round(int(float(str(23.67))),2)</p><br>\n",
    "\n",
    "<div style='margin-left:30px;'>\n",
    "<form>\n",
    "    A)<input type='radio' style='margin-left:10px;'><label> 23</label><br>\n",
    "    B)<input type='radio' style='margin-left:10px;'><label> 23.00</label><br>\n",
    "    C)<input type='radio' style='margin-left:10px;'><label> 0</label><br>\n",
    "    D)<input type='radio' style='margin-left:10px;'><label> None of the Above</label><br>\n",
    "</form>\n",
    "</div>"
   ]
  },
  {
   "cell_type": "code",
   "execution_count": null,
   "metadata": {},
   "outputs": [],
   "source": []
  }
 ],
 "metadata": {
  "kernelspec": {
   "display_name": "Python 3",
   "language": "python",
   "name": "python3"
  },
  "language_info": {
   "codemirror_mode": {
    "name": "ipython",
    "version": 3
   },
   "file_extension": ".py",
   "mimetype": "text/x-python",
   "name": "python",
   "nbconvert_exporter": "python",
   "pygments_lexer": "ipython3",
   "version": "3.7.3"
  }
 },
 "nbformat": 4,
 "nbformat_minor": 2
}
