{
 "cells": [
  {
   "cell_type": "markdown",
   "metadata": {},
   "source": [
    "<div style='border:1px solid green;text-align:center;width:400px;height:auto;margin-left:220px;'>\n",
    "    <h2 style='margin-left:30px;margin-top:1px;color:orange;font-style:italic'>Everyday Basis 5 min Quiz :)</h2>\n",
    "</div>"
   ]
  },
  {
   "cell_type": "markdown",
   "metadata": {},
   "source": [
    "<h3>1. Which of these about a set is not true?</h3><br>\n",
    "<p style='margin-left:20px;color:blue'>\n",
    "</p><br>\n",
    "\n",
    "<div style='margin-left:30px;'>\n",
    "<form>\n",
    "    A)<input type='radio' style='margin-left:10px;'><label> Nat allowed duplicate values</label><br>\n",
    "    B)<input type='radio' style='margin-left:10px;'><label> Mutable Data Types</label><br>\n",
    "    C)<input type='radio' style='margin-left:10px;'><label>Unordered</label><br>\n",
    "    D)<input type='radio' style='margin-left:10px;'><label> Immutable</label><br>\n",
    "</form>\n",
    "</div>"
   ]
  },
  {
   "cell_type": "markdown",
   "metadata": {},
   "source": [
    "<h3>2. What will be the output of the following Python code?</h3><br>\n",
    "<p style='margin-left:20px;color:blue'>nums = set([1,1,2,3,3,3,4,4])<br>\n",
    "print(len(nums))<br>\n",
    "</p><br>\n",
    "\n",
    "<div style='margin-left:30px;'>\n",
    "<form>\n",
    "    A)<input type='radio' style='margin-left:10px;'><label> 4</label><br>\n",
    "    B)<input type='radio' style='margin-left:10px;'><label> 8</label><br>\n",
    "    C)<input type='radio' style='margin-left:10px;'><label>Error</label><br>\n",
    "    D)<input type='radio' style='margin-left:10px;'><label> 7</label><br>\n",
    "</form>\n",
    "</div>"
   ]
  },
  {
   "cell_type": "markdown",
   "metadata": {},
   "source": [
    "<h3>3. What will be the output of the following Python code?</h3><br>\n",
    "<p style='margin-left:20px;color:blue'>a={5,4}<br>\n",
    "b={1,2,4,5}<br>\n",
    "a is less than b <br>\n",
    "</p><br>\n",
    "\n",
    "<div style='margin-left:30px;'>\n",
    "<form>\n",
    "    A)<input type='radio' style='margin-left:10px;'><label> True</label><br>\n",
    "    B)<input type='radio' style='margin-left:10px;'><label> False</label><br>\n",
    "    C)<input type='radio' style='margin-left:10px;'><label>Error</label><br>\n",
    "    D)<input type='radio' style='margin-left:10px;'><label> None</label><br>\n",
    "</form>\n",
    "</div>"
   ]
  },
  {
   "cell_type": "markdown",
   "metadata": {},
   "source": [
    "<h3>4. What will be the output of the following Python code?</h3><br>\n",
    "<p style='margin-left:20px;color:blue'>a={4,5,6}<br>\n",
    "b={2,8,6}<br>\n",
    "a+b<br>\n",
    "</p><br>\n",
    "\n",
    "<div style='margin-left:30px;'>\n",
    "<form>\n",
    "    A)<input type='radio' style='margin-left:10px;'><label> 0</label><br>\n",
    "    B)<input type='radio' style='margin-left:10px;'><label> {4,5,6,2,8}</label><br>\n",
    "    C)<input type='radio' style='margin-left:10px;'><label>{6,13,12}</label><br>\n",
    "    D)<input type='radio' style='margin-left:10px;'><label> Error</label><br>\n",
    "</form>\n",
    "</div>"
   ]
  },
  {
   "cell_type": "markdown",
   "metadata": {},
   "source": [
    "<h3>5. What will be the output of the following Python code?</h3><br>\n",
    "<p style='margin-left:20px;color:blue'>>>> a={1,2,3}<br>\n",
    ">>> a.intersection_update({2,3,4,5})<br>\n",
    ">>> a<br>\n",
    "</p><br>\n",
    "\n",
    "<div style='margin-left:30px;'>\n",
    "<form>\n",
    "    A)<input type='radio' style='margin-left:10px;'><label> {2,3}</label><br>\n",
    "    B)<input type='radio' style='margin-left:10px;'><label> {1,4,5}</label><br>\n",
    "    C)<input type='radio' style='margin-left:10px;'><label>{}</label><br>\n",
    "    D)<input type='radio' style='margin-left:10px;'><label> {1,2,3,4,5}</label><br>\n",
    "</form>\n",
    "</div>"
   ]
  },
  {
   "cell_type": "code",
   "execution_count": null,
   "metadata": {},
   "outputs": [],
   "source": []
  }
 ],
 "metadata": {
  "kernelspec": {
   "display_name": "Python 3",
   "language": "python",
   "name": "python3"
  },
  "language_info": {
   "codemirror_mode": {
    "name": "ipython",
    "version": 3
   },
   "file_extension": ".py",
   "mimetype": "text/x-python",
   "name": "python",
   "nbconvert_exporter": "python",
   "pygments_lexer": "ipython3",
   "version": "3.7.3"
  }
 },
 "nbformat": 4,
 "nbformat_minor": 2
}
