{
 "cells": [
  {
   "cell_type": "markdown",
   "metadata": {},
   "source": [
    "<div style='border:1px solid green;text-align:center;width:400px;height:auto;margin-left:220px;'>\n",
    "    <h2 style='margin-left:30px;margin-top:1px;color:orange;font-style:italic'>Everyday Basis 5 min Quiz :)</h2>\n",
    "</div>"
   ]
  },
  {
   "cell_type": "markdown",
   "metadata": {},
   "source": [
    "<h3>1. What will be the output of the following Python code?</h3><br>\n",
    "<p style='margin-left:20px;color:blue'>A=15,B=16<br><br>\n",
    "a=A % B // A<br>\n",
    "print(a)\n",
    "</p><br>\n",
    "\n",
    "<div style='margin-left:30px;'>\n",
    "<form>\n",
    "    A)<input type='radio' style='margin-left:10px;'><label>0.0</label><br>\n",
    "    B)<input type='radio' style='margin-left:10px;'><label>0</label><br>\n",
    "    C)<input type='radio' style='margin-left:10px;'><label>1.0</label><br>\n",
    "    D)<input type='radio' style='margin-left:10px;'><label>1</label><br>\n",
    "</form>\n",
    "</div>"
   ]
  },
  {
   "cell_type": "markdown",
   "metadata": {},
   "source": [
    "<h3>2. What will be the output of the following Python code?</h3><br>\n",
    "<p style='margin-left:20px;color:blue'>2**(3**2)<br>\n",
    "(2**3)**2<br>\n",
    "2**3**2<br>\n",
    "</p><br>\n",
    "\n",
    "<div style='margin-left:30px;'>\n",
    "<form>\n",
    "    A)<input type='radio' style='margin-left:10px;'><label> 64, 512, 64</label><br>\n",
    "    B)<input type='radio' style='margin-left:10px;'><label> 64, 64, 64</label><br>\n",
    "    C)<input type='radio' style='margin-left:10px;'><label> 512, 64, 512</label><br>\n",
    "    D)<input type='radio' style='margin-left:10px;'><label> 512,512,512</label><br>\n",
    "</form>\n",
    "</div>"
   ]
  },
  {
   "cell_type": "markdown",
   "metadata": {},
   "source": [
    "<h3>3. What will be the output of the following Python code?</h3><br>\n",
    "<p style='margin-left:20px;color:blue'>X = 2+9*((3*12)-8)/10<br>\n",
    "print(X)\n",
    "</p><br>\n",
    "\n",
    "<div style='margin-left:30px;'>\n",
    "<form>\n",
    "    A)<input type='radio' style='margin-left:10px;'><label>30.0</label><br>\n",
    "    B)<input type='radio' style='margin-left:10px;'><label>30.8</label><br>\n",
    "    C)<input type='radio' style='margin-left:10px;'><label>28.4</label><br>\n",
    "    D)<input type='radio' style='margin-left:10px;'><label>27.2</label><br>\n",
    "</form>\n",
    "</div>"
   ]
  },
  {
   "cell_type": "markdown",
   "metadata": {},
   "source": [
    "<h3>4. What will be the output of the following Python code?</h3><br>\n",
    "<p style='margin-left:20px;color:blue'>X = 2+9*((3*12)-8)/10<br>\n",
    "print(X)\n",
    "</p><br>\n",
    "\n",
    "<div style='margin-left:30px;'>\n",
    "<form>\n",
    "    A)<input type='radio' style='margin-left:10px;'><label>30.0</label><br>\n",
    "    B)<input type='radio' style='margin-left:10px;'><label>30.8</label><br>\n",
    "    C)<input type='radio' style='margin-left:10px;'><label>28.4</label><br>\n",
    "    D)<input type='radio' style='margin-left:10px;'><label>27.2</label><br>\n",
    "</form>\n",
    "</div>"
   ]
  },
  {
   "cell_type": "markdown",
   "metadata": {},
   "source": [
    "<h3>5. What will be the output of the following Python code?</h3><br>\n",
    "<p style='margin-left:20px;color:blue'>4+2**5//10<br>\n",
    "</p><br>\n",
    "\n",
    "<div style='margin-left:30px;'>\n",
    "<form>\n",
    "    A)<input type='radio' style='margin-left:10px;'><label>3</label><br>\n",
    "    B)<input type='radio' style='margin-left:10px;'><label>7</label><br>\n",
    "    C)<input type='radio' style='margin-left:10px;'><label>77</label><br>\n",
    "    D)<input type='radio' style='margin-left:10px;'><label>0</label><br>\n",
    "</form>\n",
    "</div>"
   ]
  },
  {
   "cell_type": "code",
   "execution_count": null,
   "metadata": {},
   "outputs": [],
   "source": []
  }
 ],
 "metadata": {
  "kernelspec": {
   "display_name": "Python 3",
   "language": "python",
   "name": "python3"
  },
  "language_info": {
   "codemirror_mode": {
    "name": "ipython",
    "version": 3
   },
   "file_extension": ".py",
   "mimetype": "text/x-python",
   "name": "python",
   "nbconvert_exporter": "python",
   "pygments_lexer": "ipython3",
   "version": "3.7.3"
  }
 },
 "nbformat": 4,
 "nbformat_minor": 2
}
