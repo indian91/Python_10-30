{
 "cells": [
  {
   "cell_type": "markdown",
   "metadata": {},
   "source": [
    "<div style='border:1px solid green;text-align:center;width:400px;height:auto;margin-left:220px;'>\n",
    "    <h2 style='margin-left:30px;margin-top:1px;color:orange;font-style:italic'>Everyday Basis 5 min Quiz :)</h2>\n",
    "</div>"
   ]
  },
  {
   "cell_type": "markdown",
   "metadata": {},
   "source": [
    "<h3>1. What will be the output of the following Python code?</h3><br>\n",
    "<p style='margin-left:20px;color:blue'>a=(13,56,17)<br>\n",
    "a.append([87])<br>\n",
    "<br>\n",
    "print(a)\n",
    "</p><br>\n",
    "\n",
    "<div style='margin-left:30px;'>\n",
    "<form>\n",
    "    A)<input type='radio' style='margin-left:10px;'><label> Error</label><br>\n",
    "    B)<input type='radio' style='margin-left:10px;'><label> None</label><br>\n",
    "    C)<input type='radio' style='margin-left:10px;'><label> (13, 56, 17, 87)</label><br>\n",
    "    D)<input type='radio' style='margin-left:10px;'><label> (13, 56, 17)</label><br>\n",
    "</form>\n",
    "</div>"
   ]
  },
  {
   "cell_type": "markdown",
   "metadata": {},
   "source": [
    "<h3>2. What will be the output of the following Python code?</h3><br>\n",
    "<p style='margin-left:20px;color:blue'>a=(13,56,17)<br>\n",
    "a=list(a)<br>\n",
    "a.append([87])<br>\n",
    "a=tuple(a)<br>\n",
    "print(a)\n",
    "</p><br>\n",
    "\n",
    "<div style='margin-left:30px;'>\n",
    "<form>\n",
    "    A)<input type='radio' style='margin-left:10px;'><label> Error</label><br>\n",
    "    B)<input type='radio' style='margin-left:10px;'><label> None</label><br>\n",
    "    C)<input type='radio' style='margin-left:10px;'><label> (13, 56, 17, 87)</label><br>\n",
    "    D)<input type='radio' style='margin-left:10px;'><label> (13, 56, 17)</label><br>\n",
    "</form>\n",
    "</div>"
   ]
  },
  {
   "cell_type": "markdown",
   "metadata": {},
   "source": [
    "<h3>3. What will be the output of the following Python code?</h3><br>\n",
    "<p style='margin-left:20px;color:blue'>a=(13,56,17)<br>\n",
    "a=list(a)<br>\n",
    "a.append([87])<br>\n",
    "a=tuple(a)<br>\n",
    "print(a)\n",
    "</p><br>\n",
    "\n",
    "<div style='margin-left:30px;'>\n",
    "<form>\n",
    "    A)<input type='radio' style='margin-left:10px;'><label> Error</label><br>\n",
    "    B)<input type='radio' style='margin-left:10px;'><label> None</label><br>\n",
    "    C)<input type='radio' style='margin-left:10px;'><label> (13, 56, 17, 87)</label><br>\n",
    "    D)<input type='radio' style='margin-left:10px;'><label> (13, 56, 17)</label><br>\n",
    "</form>\n",
    "</div>"
   ]
  },
  {
   "cell_type": "markdown",
   "metadata": {},
   "source": [
    "<h3>4. In following options which of these is not a tuple</h3><br>\n",
    "<p style='margin-left:20px;color:blue'>\n",
    "</p><br>\n",
    "\n",
    "<div style='margin-left:30px;'>\n",
    "<form>\n",
    "    A)<input type='radio' style='margin-left:10px;'><label> (1,2,3,4)</label><br>\n",
    "    B)<input type='radio' style='margin-left:10px;'><label> (5,)</label><br>\n",
    "    C)<input type='radio' style='margin-left:10px;'><label> (5)</label><br>\n",
    "    D)<input type='radio' style='margin-left:10px;'><label> tuple(('hey','hello',[1,2,3,4,5]))</label><br>\n",
    "</form>\n",
    "</div>"
   ]
  },
  {
   "cell_type": "markdown",
   "metadata": {},
   "source": [
    "<h3>5. What will be the output of the following Python code?</h3><br>\n",
    "<p style='margin-left:20px;color:blue'>a,b=4,5<br>\n",
    "a,b=b,a<br>\n",
    "print(b,a)<br>\n",
    "</p><br>\n",
    "\n",
    "<div style='margin-left:30px;'>\n",
    "<form>\n",
    "    A)<input type='radio' style='margin-left:10px;'><label> 4  5</label><br>\n",
    "    B)<input type='radio' style='margin-left:10px;'><label> 5  4</label><br>\n",
    "    C)<input type='radio' style='margin-left:10px;'><label> Error</label><br>\n",
    "    D)<input type='radio' style='margin-left:10px;'><label> 9</label><br>\n",
    "</form>\n",
    "</div>"
   ]
  },
  {
   "cell_type": "code",
   "execution_count": null,
   "metadata": {},
   "outputs": [],
   "source": []
  }
 ],
 "metadata": {
  "kernelspec": {
   "display_name": "Python 3",
   "language": "python",
   "name": "python3"
  },
  "language_info": {
   "codemirror_mode": {
    "name": "ipython",
    "version": 3
   },
   "file_extension": ".py",
   "mimetype": "text/x-python",
   "name": "python",
   "nbconvert_exporter": "python",
   "pygments_lexer": "ipython3",
   "version": "3.7.3"
  }
 },
 "nbformat": 4,
 "nbformat_minor": 2
}
