{
 "cells": [
  {
   "cell_type": "markdown",
   "metadata": {},
   "source": [
    "<div style='border:1px solid green;text-align:center;width:400px;height:auto;margin-left:220px;'>\n",
    "    <h2 style='margin-left:30px;margin-top:1px;color:orange;font-style:italic'>Everyday Basis 5 min Quiz :)</h2>\n",
    "</div>"
   ]
  },
  {
   "cell_type": "markdown",
   "metadata": {},
   "source": [
    "<h3>1. What will be the output of the following Python code?</h3><br>\n",
    "<p style='margin-left:20px;color:blue'>print('ab12'.isalnum())\n",
    "</p><br>\n",
    "\n",
    "<div style='margin-left:30px;'>\n",
    "<form>\n",
    "    A)<input type='radio' style='margin-left:10px;'><label> True</label><br>\n",
    "    B)<input type='radio' style='margin-left:10px;'><label> False</label><br>\n",
    "    C)<input type='radio' style='margin-left:10px;'><label> Error</label><br>\n",
    "    D)<input type='radio' style='margin-left:10px;'><label> None</label><br>\n",
    "</form>\n",
    "</div>"
   ]
  },
  {
   "cell_type": "markdown",
   "metadata": {},
   "source": [
    "<h3>2. What will be the output of the following Python code?</h3><br>\n",
    "<p style='margin-left:20px;color:blue'>example = \"snow world\"<br>example[3] = 's'<br>print example</p><br>\n",
    "\n",
    "<div style='margin-left:30px;'>\n",
    "<form>\n",
    "    A)<input type='radio' style='margin-left:10px;'><label> snow</label><br>\n",
    "    B)<input type='radio' style='margin-left:10px;'><label> snow world</label><br>\n",
    "    C)<input type='radio' style='margin-left:10px;'><label> Error</label><br>\n",
    "    D)<input type='radio' style='margin-left:10px;'><label>snos world</label><br>\n",
    "</form>\n",
    "</div>"
   ]
  },
  {
   "cell_type": "markdown",
   "metadata": {},
   "source": [
    "<h3>3. Given a string example=”hello” what is the output of example.count(‘l’)?</h3><br>\n",
    "\n",
    "<div style='margin-left:30px;'>\n",
    "<form>\n",
    "    A)<input type='radio' style='margin-left:10px;'><label> 2</label><br>\n",
    "    B)<input type='radio' style='margin-left:10px;'><label> 1</label><br>\n",
    "    C)<input type='radio' style='margin-left:10px;'><label> None</label><br>\n",
    "    D)<input type='radio' style='margin-left:10px;'><label>0</label><br>\n",
    "</form>\n",
    "</div>"
   ]
  },
  {
   "cell_type": "markdown",
   "metadata": {},
   "source": [
    "<h3>4. What will be the output of the following Python code?</h3><br>\n",
    "<p style='margin-left:20px;color:blue'>print(\"xyyzxyzxzxyy\".endswith(\"xyy\", 0, 2))\n",
    "\n",
    "</p><br>\n",
    "\n",
    "<div style='margin-left:30px;'>\n",
    "<form>\n",
    "    A)<input type='radio' style='margin-left:10px;'><label> True</label><br>\n",
    "    B)<input type='radio' style='margin-left:10px;'><label> False</label><br>\n",
    "    C)<input type='radio' style='margin-left:10px;'><label> Error</label><br>\n",
    "    D)<input type='radio' style='margin-left:10px;'><label> None</label><br>\n",
    "</form>\n",
    "</div>"
   ]
  },
  {
   "cell_type": "markdown",
   "metadata": {},
   "source": [
    "<h3>5. What will be the output of the following Python code?</h3><br>\n",
    "<p style='margin-left:20px;color:blue'>print(\"abcdef\".center(10, '12'))\n",
    "</p><br>\n",
    "\n",
    "<div style='margin-left:30px;'>\n",
    "<form>\n",
    "    A)<input type='radio' style='margin-left:10px;'><label> 12abcdef12</label><br>\n",
    "    B)<input type='radio' style='margin-left:10px;'><label> abcdef1212</label><br>\n",
    "    C)<input type='radio' style='margin-left:10px;'><label> 1212abcdef</label><br>\n",
    "    D)<input type='radio' style='margin-left:10px;'><label> Error</label><br>\n",
    "</form>\n",
    "</div>"
   ]
  },
  {
   "cell_type": "code",
   "execution_count": null,
   "metadata": {},
   "outputs": [],
   "source": []
  }
 ],
 "metadata": {
  "kernelspec": {
   "display_name": "Python 3",
   "language": "python",
   "name": "python3"
  },
  "language_info": {
   "codemirror_mode": {
    "name": "ipython",
    "version": 3
   },
   "file_extension": ".py",
   "mimetype": "text/x-python",
   "name": "python",
   "nbconvert_exporter": "python",
   "pygments_lexer": "ipython3",
   "version": "3.7.3"
  }
 },
 "nbformat": 4,
 "nbformat_minor": 2
}
