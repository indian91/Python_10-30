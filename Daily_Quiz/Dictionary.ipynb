{
 "cells": [
  {
   "cell_type": "markdown",
   "metadata": {},
   "source": [
    "<div style='border:1px solid green;text-align:center;width:400px;height:auto;margin-left:220px;'>\n",
    "    <h2 style='margin-left:30px;margin-top:1px;color:orange;font-style:italic'>Everyday Basis 5 min Quiz :)</h2>\n",
    "</div>"
   ]
  },
  {
   "cell_type": "markdown",
   "metadata": {},
   "source": [
    "<h3>1. What will be the output of the following Python code?</h3><br>\n",
    "<p style='margin-left:20px;color:blue'>d = {\"john\":40, \"peter\":45}<br>\n",
    "d[\"john\"]\n",
    "</p><br>\n",
    "\n",
    "<div style='margin-left:30px;'>\n",
    "<form>\n",
    "    A)<input type='radio' style='margin-left:10px;'><label> 40</label><br>\n",
    "    B)<input type='radio' style='margin-left:10px;'><label> 45</label><br>\n",
    "    C)<input type='radio' style='margin-left:10px;'><label> 'John'</label><br>\n",
    "    D)<input type='radio' style='margin-left:10px;'><label> 'peter'</label><br>\n",
    "</form>\n",
    "</div>"
   ]
  },
  {
   "cell_type": "markdown",
   "metadata": {},
   "source": [
    "<h3>2. What will be the output of the following Python code?</h3><br>\n",
    "<p style='margin-left:20px;color:blue'>d = {\"john\":40, \"peter\":45}<br>\n",
    "print(list(d.keys()))\n",
    "</p><br>\n",
    "\n",
    "<div style='margin-left:30px;'>\n",
    "<form>\n",
    "    A)<input type='radio' style='margin-left:10px;'><label> [“john”, “peter”]</label><br>\n",
    "    B)<input type='radio' style='margin-left:10px;'><label>[“john”:40, “peter”:45]</label><br>\n",
    "    C)<input type='radio' style='margin-left:10px;'><label> (“john”, “peter”)</label><br>\n",
    "    D)<input type='radio' style='margin-left:10px;'><label> (“john”:40, “peter”:45)</label><br>\n",
    "</form>\n",
    "</div>"
   ]
  },
  {
   "cell_type": "markdown",
   "metadata": {},
   "source": [
    "<h3>3. What will be the output of the following Python code?</h3><br>\n",
    "<p style='margin-left:20px;color:blue'>a={1:\"A\",2:\"B\",3:\"C\"}<br>\n",
    "print(a.get(1,4))\n",
    "</p><br>\n",
    "\n",
    "<div style='margin-left:30px;'>\n",
    "<form>\n",
    "    A)<input type='radio' style='margin-left:10px;'><label> 4</label><br>\n",
    "    B)<input type='radio' style='margin-left:10px;'><label>5</label><br>\n",
    "    C)<input type='radio' style='margin-left:10px;'><label>Error</label><br>\n",
    "    D)<input type='radio' style='margin-left:10px;'><label> 'A'</label><br>\n",
    "</form>\n",
    "</div>"
   ]
  },
  {
   "cell_type": "markdown",
   "metadata": {},
   "source": [
    "<h3>4. What will be the output of the following Python code?</h3><br>\n",
    "<p style='margin-left:20px;color:blue'>a={1:\"A\",2:\"B\",3:\"C\"}<br>\n",
    "print(a.get(4,4))\n",
    "</p><br>\n",
    "\n",
    "<div style='margin-left:30px;'>\n",
    "<form>\n",
    "    A)<input type='radio' style='margin-left:10px;'><label> 4</label><br>\n",
    "    B)<input type='radio' style='margin-left:10px;'><label>None</label><br>\n",
    "    C)<input type='radio' style='margin-left:10px;'><label>Error</label><br>\n",
    "    D)<input type='radio' style='margin-left:10px;'><label> 'D'</label><br>\n",
    "</form>\n",
    "</div>"
   ]
  },
  {
   "cell_type": "markdown",
   "metadata": {},
   "source": [
    "<h3>5. What will be the output of the following Python code?</h3><br>\n",
    "<p style='margin-left:20px;color:blue'>a={1:\"A\",2:\"B\",3:\"C\"}<br>\n",
    "for i,j in a.items():<br>\n",
    "    print(i,j,end=\" \")<br>\n",
    "</p><br>\n",
    "\n",
    "<div style='margin-left:30px;'>\n",
    "<form>\n",
    "    A)<input type='radio' style='margin-left:10px;'><label> 1 A 2 B 3 C</label><br>\n",
    "    B)<input type='radio' style='margin-left:10px;'><label>1 2 3</label><br>\n",
    "    C)<input type='radio' style='margin-left:10px;'><label> 1:”A” 2:”B” 3:”C”</label><br>\n",
    "    D)<input type='radio' style='margin-left:10px;'><label> A B C</label><br>\n",
    "</form>\n",
    "</div>"
   ]
  }
 ],
 "metadata": {
  "kernelspec": {
   "display_name": "Python 3",
   "language": "python",
   "name": "python3"
  },
  "language_info": {
   "codemirror_mode": {
    "name": "ipython",
    "version": 3
   },
   "file_extension": ".py",
   "mimetype": "text/x-python",
   "name": "python",
   "nbconvert_exporter": "python",
   "pygments_lexer": "ipython3",
   "version": "3.7.3"
  }
 },
 "nbformat": 4,
 "nbformat_minor": 2
}
