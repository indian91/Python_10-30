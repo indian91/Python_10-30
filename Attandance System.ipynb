{
 "cells": [
  {
   "cell_type": "code",
   "execution_count": 2,
   "metadata": {},
   "outputs": [],
   "source": [
    "import time\n",
    "f=open(f'{time.time()}.txt','w')"
   ]
  },
  {
   "cell_type": "code",
   "execution_count": 3,
   "metadata": {},
   "outputs": [],
   "source": [
    "s='Name\\tP\\t\\C\\t\\M\\nSachin\\t90\\t92\\t98'\n",
    "f.write(s)\n",
    "f.close()"
   ]
  },
  {
   "cell_type": "code",
   "execution_count": 7,
   "metadata": {},
   "outputs": [
    {
     "name": "stdout",
     "output_type": "stream",
     "text": [
      "Enter your Namesachin\n",
      "Enter your Physics marks96\n",
      "Enter your Chemistry marks97\n",
      "Enter your Maths marks91\n",
      "Enter your Namesamyak\n",
      "Enter your Physics marks91\n",
      "Enter your Chemistry marks94\n",
      "Enter your Maths marks95\n",
      "Enter your Namerajat\n",
      "Enter your Physics marks91\n",
      "Enter your Chemistry marks95\n",
      "Enter your Maths marks96\n"
     ]
    }
   ],
   "source": [
    "f=open('percentage.txt','w')\n",
    "s='Name\\tP\\tC\\tM'\n",
    "f.write(s)\n",
    "for i in range(3):\n",
    "    s=f\"\\n{input('Enter your Name')}\\t{input('Enter your Physics marks')}\\t{input('Enter your Chemistry marks')}\\t{input('Enter your Maths marks')}\"\n",
    "    f.write(s)\n",
    "f.close()"
   ]
  },
  {
   "cell_type": "code",
   "execution_count": 8,
   "metadata": {},
   "outputs": [
    {
     "name": "stdout",
     "output_type": "stream",
     "text": [
      "Name\tP\tC\tM\n",
      "sachin\t96\t97\t91\n",
      "samyak\t91\t94\t95\n",
      "rajat\t91\t95\t96\n"
     ]
    }
   ],
   "source": [
    "\n",
    "!type percentage.txt"
   ]
  },
  {
   "cell_type": "code",
   "execution_count": 9,
   "metadata": {},
   "outputs": [],
   "source": [
    "f=open('percentage.txt')"
   ]
  },
  {
   "cell_type": "code",
   "execution_count": 10,
   "metadata": {},
   "outputs": [],
   "source": [
    "data=f.read()"
   ]
  },
  {
   "cell_type": "code",
   "execution_count": 11,
   "metadata": {},
   "outputs": [
    {
     "name": "stdout",
     "output_type": "stream",
     "text": [
      "Name\tP\tC\tM\n",
      "sachin\t96\t97\t91\n",
      "samyak\t91\t94\t95\n",
      "rajat\t91\t95\t96\n"
     ]
    }
   ],
   "source": [
    "print(data)"
   ]
  },
  {
   "cell_type": "code",
   "execution_count": 13,
   "metadata": {},
   "outputs": [
    {
     "data": {
      "text/plain": [
       "False"
      ]
     },
     "execution_count": 13,
     "metadata": {},
     "output_type": "execute_result"
    }
   ],
   "source": [
    "f.closed\n"
   ]
  },
  {
   "cell_type": "code",
   "execution_count": 14,
   "metadata": {},
   "outputs": [
    {
     "data": {
      "text/plain": [
       "True"
      ]
     },
     "execution_count": 14,
     "metadata": {},
     "output_type": "execute_result"
    }
   ],
   "source": [
    "f.readable()"
   ]
  },
  {
   "cell_type": "code",
   "execution_count": 15,
   "metadata": {},
   "outputs": [
    {
     "data": {
      "text/plain": [
       "False"
      ]
     },
     "execution_count": 15,
     "metadata": {},
     "output_type": "execute_result"
    }
   ],
   "source": [
    "f.writable()"
   ]
  },
  {
   "cell_type": "code",
   "execution_count": 16,
   "metadata": {},
   "outputs": [],
   "source": [
    "f.close()"
   ]
  },
  {
   "cell_type": "code",
   "execution_count": 17,
   "metadata": {},
   "outputs": [
    {
     "data": {
      "text/plain": [
       "True"
      ]
     },
     "execution_count": 17,
     "metadata": {},
     "output_type": "execute_result"
    }
   ],
   "source": [
    "f.closed"
   ]
  },
  {
   "cell_type": "code",
   "execution_count": 26,
   "metadata": {},
   "outputs": [],
   "source": [
    "f=open('percentage.txt','r+')"
   ]
  },
  {
   "cell_type": "code",
   "execution_count": 19,
   "metadata": {},
   "outputs": [
    {
     "data": {
      "text/plain": [
       "True"
      ]
     },
     "execution_count": 19,
     "metadata": {},
     "output_type": "execute_result"
    }
   ],
   "source": [
    "f.readable()"
   ]
  },
  {
   "cell_type": "code",
   "execution_count": 20,
   "metadata": {},
   "outputs": [
    {
     "data": {
      "text/plain": [
       "True"
      ]
     },
     "execution_count": 20,
     "metadata": {},
     "output_type": "execute_result"
    }
   ],
   "source": [
    "f.writable()"
   ]
  },
  {
   "cell_type": "code",
   "execution_count": 25,
   "metadata": {},
   "outputs": [
    {
     "data": {
      "text/plain": [
       "''"
      ]
     },
     "execution_count": 25,
     "metadata": {},
     "output_type": "execute_result"
    }
   ],
   "source": [
    "f.readline()"
   ]
  },
  {
   "cell_type": "code",
   "execution_count": 27,
   "metadata": {},
   "outputs": [
    {
     "data": {
      "text/plain": [
       "['Name\\tP\\tC\\tM\\n',\n",
       " 'sachin\\t96\\t97\\t91\\n',\n",
       " 'samyak\\t91\\t94\\t95\\n',\n",
       " 'rajat\\t91\\t95\\t96']"
      ]
     },
     "execution_count": 27,
     "metadata": {},
     "output_type": "execute_result"
    }
   ],
   "source": [
    "f.readlines()"
   ]
  },
  {
   "cell_type": "code",
   "execution_count": 28,
   "metadata": {},
   "outputs": [],
   "source": [
    "f=open('percentage.txt')"
   ]
  },
  {
   "cell_type": "code",
   "execution_count": 29,
   "metadata": {},
   "outputs": [],
   "source": [
    "data=f.read()\n"
   ]
  },
  {
   "cell_type": "code",
   "execution_count": 30,
   "metadata": {},
   "outputs": [
    {
     "name": "stdout",
     "output_type": "stream",
     "text": [
      "Name\tP\tC\tM\n",
      "sachin\t96\t97\t91\n",
      "samyak\t91\t94\t95\n",
      "rajat\t91\t95\t96\n"
     ]
    }
   ],
   "source": [
    "print(data)"
   ]
  },
  {
   "cell_type": "code",
   "execution_count": 31,
   "metadata": {},
   "outputs": [
    {
     "data": {
      "text/plain": [
       "'Name\\tP\\tC\\tM\\nsachin\\t96\\t97\\t91\\nsamyak\\t91\\t94\\t95\\nrajat\\t91\\t95\\t96'"
      ]
     },
     "execution_count": 31,
     "metadata": {},
     "output_type": "execute_result"
    }
   ],
   "source": [
    "data"
   ]
  },
  {
   "cell_type": "code",
   "execution_count": 32,
   "metadata": {},
   "outputs": [],
   "source": [
    "data=f.read()\n",
    "data=data.split('\\n')"
   ]
  },
  {
   "cell_type": "code",
   "execution_count": 33,
   "metadata": {},
   "outputs": [
    {
     "data": {
      "text/plain": [
       "['Name\\tP\\tC\\tM',\n",
       " 'sachin\\t96\\t97\\t91',\n",
       " 'samyak\\t91\\t94\\t95',\n",
       " 'rajat\\t91\\t95\\t96']"
      ]
     },
     "execution_count": 33,
     "metadata": {},
     "output_type": "execute_result"
    }
   ],
   "source": [
    "data"
   ]
  },
  {
   "cell_type": "code",
   "execution_count": 36,
   "metadata": {},
   "outputs": [],
   "source": [
    "l=data[1].split('\\t')"
   ]
  },
  {
   "cell_type": "code",
   "execution_count": 37,
   "metadata": {},
   "outputs": [
    {
     "data": {
      "text/plain": [
       "['sachin', '96', '97', '91']"
      ]
     },
     "execution_count": 37,
     "metadata": {},
     "output_type": "execute_result"
    }
   ],
   "source": [
    "l"
   ]
  },
  {
   "cell_type": "code",
   "execution_count": 40,
   "metadata": {},
   "outputs": [
    {
     "name": "stdout",
     "output_type": "stream",
     "text": [
      "sachin got 94.67%\n"
     ]
    }
   ],
   "source": [
    "sum1=0\n",
    "for i in range(1,len(l)):\n",
    "    sum1=sum1+int(l[i])\n",
    "print(f'{l[0]} got {round(sum1/3,2)}%')"
   ]
  },
  {
   "cell_type": "code",
   "execution_count": 41,
   "metadata": {},
   "outputs": [
    {
     "name": "stdout",
     "output_type": "stream",
     "text": [
      "['Name\\tP\\tC\\tM', 'sachin\\t96\\t97\\t91', 'samyak\\t91\\t94\\t95', 'rajat\\t91\\t95\\t96']\n"
     ]
    }
   ],
   "source": [
    "print(data)"
   ]
  },
  {
   "cell_type": "code",
   "execution_count": 42,
   "metadata": {},
   "outputs": [
    {
     "name": "stdout",
     "output_type": "stream",
     "text": [
      "sachin got 94.67%\n",
      "samyak got 93.33%\n",
      "rajat got 94.0%\n"
     ]
    }
   ],
   "source": [
    "data=f.read()\n",
    "data=data.split('\\n')\n",
    "for i in range(1,len(data)):\n",
    "    l=data[i].split('\\t')\n",
    "    sum1=0\n",
    "    for i in range(1,len(l)):\n",
    "        sum1=sum1+int(l[i])\n",
    "    print(f\"{l[0]} got {round(sum1/3,2)}%\")"
   ]
  },
  {
   "cell_type": "code",
   "execution_count": 43,
   "metadata": {},
   "outputs": [],
   "source": [
    "f=open('hello (2).txt')"
   ]
  },
  {
   "cell_type": "code",
   "execution_count": 44,
   "metadata": {},
   "outputs": [],
   "source": [
    "data=f.read()"
   ]
  },
  {
   "cell_type": "code",
   "execution_count": 46,
   "metadata": {},
   "outputs": [
    {
     "name": "stdout",
     "output_type": "stream",
     "text": [
      "this is world of pyhon progrmaing\n",
      "\n"
     ]
    }
   ],
   "source": [
    "print(data)"
   ]
  },
  {
   "cell_type": "code",
   "execution_count": 47,
   "metadata": {},
   "outputs": [],
   "source": [
    "f.close()"
   ]
  },
  {
   "cell_type": "code",
   "execution_count": 48,
   "metadata": {},
   "outputs": [],
   "source": [
    "def main():\n",
    "    s='''1.Enter Data\\n2.Show Result'''\n",
    "    print(s)\n",
    "    ch=int(input('Enter a number'))\n",
    "    if ch==1:\n",
    "        enter_data()\n",
    "    elif ch==2:\n",
    "        show_result()\n",
    "    else:\n",
    "        exit()\n",
    "        \n",
    "def exit():\n",
    "    print('Thanks for using our service')"
   ]
  },
  {
   "cell_type": "code",
   "execution_count": 57,
   "metadata": {},
   "outputs": [],
   "source": [
    "def enter_data():\n",
    "    f=open('percentage.txt','w')\n",
    "    s='Name\\tP\\tC\\tM'\n",
    "    f.write(s)\n",
    "    st=int(input('Enter number of students'))\n",
    "    for i in range(st):\n",
    "        s=f\"\\n{input('Enter your Name')}\\t{input('Enter your Physics marks')}\\t{input('Enter your Chemistry marks')}\\t{input('Enter your Maths marks')}\"\n",
    "        f.write(s)\n",
    "    f.close()"
   ]
  },
  {
   "cell_type": "code",
   "execution_count": 54,
   "metadata": {},
   "outputs": [],
   "source": [
    "def show_result():\n",
    "    f=open('percentage.txt')\n",
    "    data=f.read()\n",
    "    data=data.split('\\n')\n",
    "    for i in range(1,len(data)):\n",
    "        l=data[i].split('\\t')\n",
    "        sum1=0\n",
    "        for i in range(1,len(l)):\n",
    "            sum1=sum1+int(l[i])\n",
    "        print(f\"{l[0]} got {round(sum1/3,2)}%\")"
   ]
  },
  {
   "cell_type": "code",
   "execution_count": 58,
   "metadata": {},
   "outputs": [
    {
     "name": "stdout",
     "output_type": "stream",
     "text": [
      "1.Enter Data\n",
      "2.Show Result\n",
      "Enter a number2\n",
      "A got 80.67%\n",
      "B got 80.33%\n",
      "C got 87.67%\n"
     ]
    }
   ],
   "source": [
    "main()"
   ]
  },
  {
   "cell_type": "code",
   "execution_count": 59,
   "metadata": {},
   "outputs": [
    {
     "name": "stdout",
     "output_type": "stream",
     "text": [
      "Writing percentage.py\n"
     ]
    }
   ],
   "source": [
    "%%writefile percentage.py\n",
    "def main():\n",
    "    s='''1.Enter Data\\n2.Show Result'''\n",
    "    print(s)\n",
    "    ch=int(input('Enter a number'))\n",
    "    if ch==1:\n",
    "        enter_data()\n",
    "    elif ch==2:\n",
    "        show_result()\n",
    "    else:\n",
    "        exit()\n",
    "        \n",
    "def exit():\n",
    "    print('Thanks for using our service')\n",
    "    \n",
    "def show_result():\n",
    "    f=open('percentage.txt')\n",
    "    data=f.read()\n",
    "    data=data.split('\\n')\n",
    "    for i in range(1,len(data)):\n",
    "        l=data[i].split('\\t')\n",
    "        sum1=0\n",
    "        for i in range(1,len(l)):\n",
    "            sum1=sum1+int(l[i])\n",
    "        print(f\"{l[0]} got {round(sum1/3,2)}%\")\n",
    "    f.close()\n",
    "def enter_data():\n",
    "    f=open('percentage.txt','w')\n",
    "    s='Name\\tP\\tC\\tM'\n",
    "    f.write(s)\n",
    "    st=int(input('Enter number of students'))\n",
    "    for i in range(st):\n",
    "        s=f\"\\n{input('Enter your Name')}\\t{input('Enter your Physics marks')}\\t{input('Enter your Chemistry marks')}\\t{input('Enter your Maths marks')}\"\n",
    "        f.write(s)\n",
    "    f.close()\n",
    "    \n",
    "main()"
   ]
  },
  {
   "cell_type": "code",
   "execution_count": 60,
   "metadata": {},
   "outputs": [],
   "source": [
    "import time\n",
    "f=open('attandance.txt','w')\n",
    "s='Name\\tSamyak\\tSachin\\trajat\\tsimran\\tyadvendra\\tanshul\\tkushal\\tnidhi\\tnikita\\tSanjay'\n",
    "f.write(s)\n",
    "f.close()"
   ]
  },
  {
   "cell_type": "code",
   "execution_count": 3,
   "metadata": {},
   "outputs": [
    {
     "name": "stdout",
     "output_type": "stream",
     "text": [
      "Enter A for abscent P for Present\n",
      "Samyak--->P\n",
      "Sachin--->A\n",
      "rajat--->A\n",
      "simran--->A\n",
      "yadvendra--->P\n",
      "anshul--->A\n",
      "kushal--->P\n",
      "nidhi--->A\n",
      "nikita--->A\n",
      "Sanjay--->P\n"
     ]
    }
   ],
   "source": [
    "import time\n",
    "import random\n",
    "f=open('attandance.txt')\n",
    "data=f.read()\n",
    "f.close()\n",
    "f=open('attandance.txt','a')\n",
    "s=f\"\\n{time.strftime('%d/%m/%y')}\"\n",
    "f.write(s)\n",
    "data=data.split('\\n')[0].split('\\t')\n",
    "print('Enter A for abscent P for Present')\n",
    "for i in range(1,len(data)):\n",
    "    s='\\t'+input(f'{data[i]}--->')\n",
    "    f.write(s)\n",
    "f.close()"
   ]
  },
  {
   "cell_type": "code",
   "execution_count": 4,
   "metadata": {},
   "outputs": [
    {
     "name": "stdout",
     "output_type": "stream",
     "text": [
      "Name\tSamyak\tSachin\trajat\tsimran\tyadvendra\tanshul\tkushal\tnidhi\tnikita\tSanjay\n",
      "09/06/20\tA\tP\tP\tP\tA\tP\tP\tA\tP\tP\n",
      "09/06/20\tA\tP\tP\tA\tP\tP\tP\tA\tP\tP\n",
      "09/06/20\tP\tA\tP\tP\tA\tP\tP\tA\tP\tP\n",
      "09/06/20\tP\tA\tA\tA\tP\tA\tP\tA\tA\tP\n"
     ]
    }
   ],
   "source": [
    "!type attandance.txt\n"
   ]
  },
  {
   "cell_type": "code",
   "execution_count": 5,
   "metadata": {},
   "outputs": [],
   "source": [
    "f=open('attandance.txt')\n",
    "data=f.read()"
   ]
  },
  {
   "cell_type": "code",
   "execution_count": 6,
   "metadata": {},
   "outputs": [
    {
     "name": "stdout",
     "output_type": "stream",
     "text": [
      "Name\tSamyak\tSachin\trajat\tsimran\tyadvendra\tanshul\tkushal\tnidhi\tnikita\tSanjay\n",
      "09/06/20\tA\tP\tP\tP\tA\tP\tP\tA\tP\tP\n",
      "09/06/20\tA\tP\tP\tA\tP\tP\tP\tA\tP\tP\n",
      "09/06/20\tP\tA\tP\tP\tA\tP\tP\tA\tP\tP\n",
      "09/06/20\tP\tA\tA\tA\tP\tA\tP\tA\tA\tP\n"
     ]
    }
   ],
   "source": [
    "print(data)"
   ]
  },
  {
   "cell_type": "code",
   "execution_count": 7,
   "metadata": {},
   "outputs": [
    {
     "data": {
      "text/plain": [
       "'Name\\tSamyak\\tSachin\\trajat\\tsimran\\tyadvendra\\tanshul\\tkushal\\tnidhi\\tnikita\\tSanjay\\n09/06/20\\tA\\tP\\tP\\tP\\tA\\tP\\tP\\tA\\tP\\tP\\n09/06/20\\tA\\tP\\tP\\tA\\tP\\tP\\tP\\tA\\tP\\tP\\n09/06/20\\tP\\tA\\tP\\tP\\tA\\tP\\tP\\tA\\tP\\tP\\n09/06/20\\tP\\tA\\tA\\tA\\tP\\tA\\tP\\tA\\tA\\tP'"
      ]
     },
     "execution_count": 7,
     "metadata": {},
     "output_type": "execute_result"
    }
   ],
   "source": [
    "data"
   ]
  },
  {
   "cell_type": "code",
   "execution_count": 8,
   "metadata": {},
   "outputs": [],
   "source": [
    "data=data.split('\\n')"
   ]
  },
  {
   "cell_type": "code",
   "execution_count": 9,
   "metadata": {},
   "outputs": [
    {
     "name": "stdout",
     "output_type": "stream",
     "text": [
      "['Name\\tSamyak\\tSachin\\trajat\\tsimran\\tyadvendra\\tanshul\\tkushal\\tnidhi\\tnikita\\tSanjay', '09/06/20\\tA\\tP\\tP\\tP\\tA\\tP\\tP\\tA\\tP\\tP', '09/06/20\\tA\\tP\\tP\\tA\\tP\\tP\\tP\\tA\\tP\\tP', '09/06/20\\tP\\tA\\tP\\tP\\tA\\tP\\tP\\tA\\tP\\tP', '09/06/20\\tP\\tA\\tA\\tA\\tP\\tA\\tP\\tA\\tA\\tP']\n"
     ]
    }
   ],
   "source": [
    "print(data)"
   ]
  },
  {
   "cell_type": "code",
   "execution_count": 10,
   "metadata": {},
   "outputs": [],
   "source": [
    "l=[]\n",
    "for i in data:\n",
    "    l.append(i.split('\\t'))"
   ]
  },
  {
   "cell_type": "code",
   "execution_count": 12,
   "metadata": {},
   "outputs": [
    {
     "name": "stdout",
     "output_type": "stream",
     "text": [
      "[['Name', 'Samyak', 'Sachin', 'rajat', 'simran', 'yadvendra', 'anshul', 'kushal', 'nidhi', 'nikita', 'Sanjay'], ['09/06/20', 'A', 'P', 'P', 'P', 'A', 'P', 'P', 'A', 'P', 'P'], ['09/06/20', 'A', 'P', 'P', 'A', 'P', 'P', 'P', 'A', 'P', 'P'], ['09/06/20', 'P', 'A', 'P', 'P', 'A', 'P', 'P', 'A', 'P', 'P'], ['09/06/20', 'P', 'A', 'A', 'A', 'P', 'A', 'P', 'A', 'A', 'P']]\n"
     ]
    }
   ],
   "source": [
    "print(l)"
   ]
  },
  {
   "cell_type": "code",
   "execution_count": 24,
   "metadata": {},
   "outputs": [
    {
     "name": "stdout",
     "output_type": "stream",
     "text": [
      "Samyak:  Present--->2\tAbscent---->2\n",
      "\n",
      "Sachin:  Present--->2\tAbscent---->2\n",
      "\n",
      "rajat:  Present--->3\tAbscent---->1\n",
      "\n",
      "simran:  Present--->2\tAbscent---->2\n",
      "\n",
      "yadvendra:  Present--->2\tAbscent---->2\n",
      "\n",
      "anshul:  Present--->3\tAbscent---->1\n",
      "\n",
      "kushal:  Present--->4\tAbscent---->0\n",
      "\n",
      "nidhi:  Present--->0\tAbscent---->4\n",
      "\n",
      "nikita:  Present--->3\tAbscent---->1\n",
      "\n",
      "Sanjay:  Present--->4\tAbscent---->0\n",
      "\n"
     ]
    }
   ],
   "source": [
    "for i in range(1,11):\n",
    "    l1=[]\n",
    "    for j in range(len(l)):\n",
    "        l1.append(l[j][i])\n",
    "    per=l1.count('P')+l1.count('p')\n",
    "    abc=l1.count('A')+l1.count('a')\n",
    "    print(f'{l1[0]}:  Present--->{per}\\tAbscent---->{abc}')\n",
    "    print()"
   ]
  },
  {
   "cell_type": "code",
   "execution_count": 20,
   "metadata": {},
   "outputs": [
    {
     "data": {
      "text/plain": [
       "['Sanjay', 'P', 'P', 'P', 'P']"
      ]
     },
     "execution_count": 20,
     "metadata": {},
     "output_type": "execute_result"
    }
   ],
   "source": [
    "l1"
   ]
  },
  {
   "cell_type": "code",
   "execution_count": 25,
   "metadata": {},
   "outputs": [],
   "source": [
    "#JSON,PICKLE---->Bank Application--->LOG file"
   ]
  },
  {
   "cell_type": "code",
   "execution_count": null,
   "metadata": {},
   "outputs": [],
   "source": []
  }
 ],
 "metadata": {
  "kernelspec": {
   "display_name": "Python 3",
   "language": "python",
   "name": "python3"
  },
  "language_info": {
   "codemirror_mode": {
    "name": "ipython",
    "version": 3
   },
   "file_extension": ".py",
   "mimetype": "text/x-python",
   "name": "python",
   "nbconvert_exporter": "python",
   "pygments_lexer": "ipython3",
   "version": "3.7.3"
  }
 },
 "nbformat": 4,
 "nbformat_minor": 2
}
