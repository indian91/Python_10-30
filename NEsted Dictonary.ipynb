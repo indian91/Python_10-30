{
 "cells": [
  {
   "cell_type": "code",
   "execution_count": 1,
   "metadata": {},
   "outputs": [
    {
     "name": "stdout",
     "output_type": "stream",
     "text": [
      "Enter Your Namesamyak\n",
      "Enter Balance10000\n",
      "Enter Passwordredhat@123\n",
      "Enter Your Namesachin\n",
      "Enter Balance20000\n",
      "Enter Passwordredhat\n",
      "Enter Your Namerajat\n",
      "Enter Balance30000\n",
      "Enter Password1234\n"
     ]
    }
   ],
   "source": [
    "bank={1001:{'Name':input('Enter Your Name'),'Bal':int(input('Enter Balance')),'Pwd':input('Enter Password')},\n",
    "      1002:{'Name':input('Enter Your Name'),'Bal':int(input('Enter Balance')),'Pwd':input('Enter Password')},\n",
    "      1003:{'Name':input('Enter Your Name'),'Bal':int(input('Enter Balance')),'Pwd':input('Enter Password')}\n",
    "     }"
   ]
  },
  {
   "cell_type": "code",
   "execution_count": 2,
   "metadata": {},
   "outputs": [
    {
     "data": {
      "text/plain": [
       "{1001: {'Name': 'samyak', 'Bal': 10000, 'Pwd': 'redhat@123'},\n",
       " 1002: {'Name': 'sachin', 'Bal': 20000, 'Pwd': 'redhat'},\n",
       " 1003: {'Name': 'rajat', 'Bal': 30000, 'Pwd': '1234'}}"
      ]
     },
     "execution_count": 2,
     "metadata": {},
     "output_type": "execute_result"
    }
   ],
   "source": [
    "bank"
   ]
  },
  {
   "cell_type": "code",
   "execution_count": 4,
   "metadata": {},
   "outputs": [
    {
     "name": "stdout",
     "output_type": "stream",
     "text": [
      "1001\n",
      "1002\n",
      "1003\n"
     ]
    }
   ],
   "source": [
    "for i in bank:\n",
    "    print(i)"
   ]
  },
  {
   "cell_type": "code",
   "execution_count": 6,
   "metadata": {},
   "outputs": [
    {
     "name": "stdout",
     "output_type": "stream",
     "text": [
      "samyak\n",
      "sachin\n",
      "rajat\n"
     ]
    }
   ],
   "source": [
    "for i in bank:\n",
    "    print(bank[i]['Name'])"
   ]
  },
  {
   "cell_type": "code",
   "execution_count": 7,
   "metadata": {},
   "outputs": [
    {
     "name": "stdout",
     "output_type": "stream",
     "text": [
      "10000\n",
      "20000\n",
      "30000\n"
     ]
    }
   ],
   "source": [
    "for i in bank:\n",
    "    print(bank[i]['Bal'])"
   ]
  },
  {
   "cell_type": "code",
   "execution_count": 8,
   "metadata": {},
   "outputs": [
    {
     "name": "stdout",
     "output_type": "stream",
     "text": [
      "redhat@123\n",
      "redhat\n",
      "1234\n"
     ]
    }
   ],
   "source": [
    "for i in bank:\n",
    "    print(bank[i]['Pwd'])"
   ]
  },
  {
   "cell_type": "code",
   "execution_count": 10,
   "metadata": {},
   "outputs": [
    {
     "name": "stdout",
     "output_type": "stream",
     "text": [
      "Name-->samyak\tBalance-->10000\tPassword-->redhat@123\n",
      "Name-->sachin\tBalance-->20000\tPassword-->redhat\n",
      "Name-->rajat\tBalance-->30000\tPassword-->1234\n"
     ]
    }
   ],
   "source": [
    "for i in bank:\n",
    "    print('Name-->{}\\tBalance-->{}\\tPassword-->{}'.format(bank[i]['Name'],bank[i]['Bal'],bank[i]['Pwd']))"
   ]
  },
  {
   "cell_type": "code",
   "execution_count": null,
   "metadata": {},
   "outputs": [],
   "source": [
    "acc=int(input('Enter account number'))\n",
    "if acc in d:\n",
    "    pwd=input('Enter Password')\n",
    "    if pwd==bank[acc]['Pwd']:\n",
    "        print('Success')\n",
    "    else:\n",
    "        print('Invalid Password')\n",
    "else:\n",
    "    print('Account Doesn\\'t exist')"
   ]
  },
  {
   "cell_type": "code",
   "execution_count": 11,
   "metadata": {},
   "outputs": [
    {
     "data": {
      "text/plain": [
       "{1001: {'Name': 'samyak', 'Bal': 10000, 'Pwd': 'redhat@123'},\n",
       " 1002: {'Name': 'sachin', 'Bal': 20000, 'Pwd': 'redhat'},\n",
       " 1003: {'Name': 'rajat', 'Bal': 30000, 'Pwd': '1234'}}"
      ]
     },
     "execution_count": 11,
     "metadata": {},
     "output_type": "execute_result"
    }
   ],
   "source": [
    "bank"
   ]
  },
  {
   "cell_type": "code",
   "execution_count": 13,
   "metadata": {},
   "outputs": [
    {
     "ename": "KeyError",
     "evalue": "'Pwd'",
     "output_type": "error",
     "traceback": [
      "\u001b[1;31m---------------------------------------------------------------------------\u001b[0m",
      "\u001b[1;31mKeyError\u001b[0m                                  Traceback (most recent call last)",
      "\u001b[1;32m<ipython-input-13-6b81bda3cc92>\u001b[0m in \u001b[0;36m<module>\u001b[1;34m\u001b[0m\n\u001b[1;32m----> 1\u001b[1;33m \u001b[0mbank\u001b[0m\u001b[1;33m[\u001b[0m\u001b[1;34m'Pwd'\u001b[0m\u001b[1;33m]\u001b[0m\u001b[1;33m\u001b[0m\u001b[1;33m\u001b[0m\u001b[0m\n\u001b[0m",
      "\u001b[1;31mKeyError\u001b[0m: 'Pwd'"
     ]
    }
   ],
   "source": [
    "bank['Pwd']"
   ]
  },
  {
   "cell_type": "code",
   "execution_count": 15,
   "metadata": {},
   "outputs": [
    {
     "data": {
      "text/plain": [
       "'samyak'"
      ]
     },
     "execution_count": 15,
     "metadata": {},
     "output_type": "execute_result"
    }
   ],
   "source": [
    "bank[1001]['Name']"
   ]
  },
  {
   "cell_type": "code",
   "execution_count": 18,
   "metadata": {},
   "outputs": [
    {
     "name": "stdout",
     "output_type": "stream",
     "text": [
      "Enter account number1003\n",
      "Enter Password1234\n",
      "Your Account Balance is: 30000\n"
     ]
    }
   ],
   "source": [
    "acc=int(input('Enter account number'))\n",
    "if acc in bank:\n",
    "    pwd=input('Enter Password')\n",
    "    if pwd==bank[acc]['Pwd']:\n",
    "        print(f\"Your Account Balance is: {bank[acc]['Bal']}\")\n",
    "    else:\n",
    "        print('Invalid Password')\n",
    "else:\n",
    "    print('Account Doesn\\'t exist')"
   ]
  },
  {
   "cell_type": "code",
   "execution_count": 19,
   "metadata": {},
   "outputs": [
    {
     "name": "stdout",
     "output_type": "stream",
     "text": [
      "Enter account number1004\n",
      "Account Doesn't exist\n"
     ]
    }
   ],
   "source": [
    "acc=int(input('Enter account number'))\n",
    "if acc in bank:\n",
    "    pwd=input('Enter Password')\n",
    "    if pwd==bank[acc]['Pwd']:\n",
    "        print(f\"Your Account Balance is: {bank[acc]['Bal']}\")\n",
    "    else:\n",
    "        print('Invalid Password')\n",
    "else:\n",
    "    print('Account Doesn\\'t exist')"
   ]
  },
  {
   "cell_type": "code",
   "execution_count": 20,
   "metadata": {},
   "outputs": [
    {
     "name": "stdout",
     "output_type": "stream",
     "text": [
      "Enter account number1003\n",
      "Enter Password4567890\n",
      "Invalid Password\n"
     ]
    }
   ],
   "source": [
    "acc=int(input('Enter account number'))\n",
    "if acc in bank:\n",
    "    pwd=input('Enter Password')\n",
    "    if pwd==bank[acc]['Pwd']:\n",
    "        print(f\"Your Account Balance is: {bank[acc]['Bal']}\")\n",
    "    else:\n",
    "        print('Invalid Password')\n",
    "else:\n",
    "    print('Account Doesn\\'t exist')"
   ]
  },
  {
   "cell_type": "code",
   "execution_count": 2,
   "metadata": {},
   "outputs": [
    {
     "name": "stdout",
     "output_type": "stream",
     "text": [
      "100 200\n"
     ]
    }
   ],
   "source": [
    "fbb={\n",
    "     'Stationary':{'Pen':{'price':[5,10],'stock':list(map(int,input().split()))},\n",
    "                   'Register':{'price':[40,50],'stock':[200,150]}\n",
    "                  },\n",
    "     'Cosmatic':{'Soap':{'price':[10,20],'stock':[150,200]},\n",
    "                 'Bodylotion':{'price':[50,100],'stock':[100,200]}\n",
    "                },\n",
    "     'Electronic':{'Mobile':{'brand':['One Plus','MI','Iphone'],'stock':[500,200,100],'Price':[40000,10000,30000]},\n",
    "                   'Fridge':{'brand':['Samsung','Panasonic'],'stock':[100,50],'Price':[15000,10000]}\n",
    "                  }\n",
    "}"
   ]
  },
  {
   "cell_type": "code",
   "execution_count": 3,
   "metadata": {},
   "outputs": [
    {
     "data": {
      "text/plain": [
       "{'Stationary': {'Pen': {'price': [5, 10], 'stock': [100, 200]},\n",
       "  'Register': {'price': [40, 50], 'stock': [200, 150]}},\n",
       " 'Cosmatic': {'Soap': {'price': [10, 20], 'stock': [150, 200]},\n",
       "  'Bodylotion': {'price': [50, 100], 'stock': [100, 200]}},\n",
       " 'Electronic': {'Mobile': {'brand': ['One Plus', 'MI', 'Iphone'],\n",
       "   'stock': [500, 200, 100],\n",
       "   'Price': [40000, 10000, 30000]},\n",
       "  'Fridge': {'brand': ['Samsung', 'Panasonic'],\n",
       "   'stock': [100, 50],\n",
       "   'Price': [15000, 10000]}}}"
      ]
     },
     "execution_count": 3,
     "metadata": {},
     "output_type": "execute_result"
    }
   ],
   "source": [
    "fbb"
   ]
  },
  {
   "cell_type": "code",
   "execution_count": 25,
   "metadata": {},
   "outputs": [
    {
     "name": "stdout",
     "output_type": "stream",
     "text": [
      "Stationary\n",
      "Cosmatic\n",
      "Electronic\n"
     ]
    }
   ],
   "source": [
    "for  i in fbb:\n",
    "    print(i)"
   ]
  },
  {
   "cell_type": "code",
   "execution_count": 26,
   "metadata": {},
   "outputs": [
    {
     "data": {
      "text/plain": [
       "{'Pen': {'price': [5, 10], 'stock': [100, 200]},\n",
       " 'Register': {'price': [40, 50], 'stock': [200, 150]}}"
      ]
     },
     "execution_count": 26,
     "metadata": {},
     "output_type": "execute_result"
    }
   ],
   "source": [
    "fbb['Stationary']"
   ]
  },
  {
   "cell_type": "code",
   "execution_count": 29,
   "metadata": {},
   "outputs": [
    {
     "name": "stdout",
     "output_type": "stream",
     "text": [
      "Pen\n",
      "Register\n"
     ]
    }
   ],
   "source": [
    "for i in fbb['Stationary']:\n",
    "    print(i)"
   ]
  },
  {
   "cell_type": "code",
   "execution_count": 30,
   "metadata": {},
   "outputs": [
    {
     "name": "stdout",
     "output_type": "stream",
     "text": [
      "{'price': [5, 10], 'stock': [100, 200]}\n",
      "{'price': [40, 50], 'stock': [200, 150]}\n"
     ]
    }
   ],
   "source": [
    "for i in fbb['Stationary']:\n",
    "    print(fbb['Stationary'][i])"
   ]
  },
  {
   "cell_type": "code",
   "execution_count": 35,
   "metadata": {},
   "outputs": [
    {
     "name": "stdout",
     "output_type": "stream",
     "text": [
      "Price of  Pen : [5, 10]\n",
      "Price of  Register : [40, 50]\n"
     ]
    }
   ],
   "source": [
    "for i in fbb['Stationary']:\n",
    "    print(f\"Price of  {i} : {fbb['Stationary'][i]['price']}\")"
   ]
  },
  {
   "cell_type": "code",
   "execution_count": 37,
   "metadata": {},
   "outputs": [
    {
     "name": "stdout",
     "output_type": "stream",
     "text": [
      "Stock of  Pen : [100, 200]\n",
      "Stock of  Register : [200, 150]\n"
     ]
    }
   ],
   "source": [
    "for i in fbb['Stationary']:\n",
    "    print(f\"Stock of  {i} : {fbb['Stationary'][i]['stock']}\")"
   ]
  },
  {
   "cell_type": "code",
   "execution_count": 43,
   "metadata": {},
   "outputs": [
    {
     "name": "stdout",
     "output_type": "stream",
     "text": [
      "Stock of Pen of 5rs. is 100\n",
      "Stock of Pen of 10rs. is 200\n",
      "Stock of Register of 40rs. is 200\n",
      "Stock of Register of 50rs. is 150\n"
     ]
    }
   ],
   "source": [
    "for i in fbb['Stationary']:\n",
    "    for c in range(2):\n",
    "        print(f\"Stock of {i} of {fbb['Stationary'][i]['price'][c]}rs. is {fbb['Stationary'][i]['stock'][c]}\")\n",
    "    "
   ]
  },
  {
   "cell_type": "code",
   "execution_count": 48,
   "metadata": {},
   "outputs": [
    {
     "data": {
      "text/plain": [
       "{'Stationary': {'Pen': {'price': [5, 10], 'stock': [100, 200]},\n",
       "  'Register': {'price': [40, 50], 'stock': [200, 150]}},\n",
       " 'Cosmatic': {'Soap': {'price': [10, 20], 'stock': [150, 200]},\n",
       "  'Bodylotion': {'price': [50, 100], 'stock': [100, 200]}},\n",
       " 'Electronic': {'Mobile': {'brand': ['One Plus', 'MI', 'Iphone'],\n",
       "   'stock': [500, 200, 100],\n",
       "   'Price': [40000, 10000, 30000]},\n",
       "  'Fridge': {'brand': ['Samsung', 'Panasonic'],\n",
       "   'stock': [100, 50],\n",
       "   'Price': [15000, 10000]}}}"
      ]
     },
     "execution_count": 48,
     "metadata": {},
     "output_type": "execute_result"
    }
   ],
   "source": [
    "fbb"
   ]
  },
  {
   "cell_type": "code",
   "execution_count": 49,
   "metadata": {},
   "outputs": [],
   "source": [
    "from pprint import pprint"
   ]
  },
  {
   "cell_type": "code",
   "execution_count": 50,
   "metadata": {},
   "outputs": [
    {
     "name": "stdout",
     "output_type": "stream",
     "text": [
      "{'Stationary': {'Pen': {'price': [5, 10], 'stock': [100, 200]}, 'Register': {'price': [40, 50], 'stock': [200, 150]}}, 'Cosmatic': {'Soap': {'price': [10, 20], 'stock': [150, 200]}, 'Bodylotion': {'price': [50, 100], 'stock': [100, 200]}}, 'Electronic': {'Mobile': {'brand': ['One Plus', 'MI', 'Iphone'], 'stock': [500, 200, 100], 'Price': [40000, 10000, 30000]}, 'Fridge': {'brand': ['Samsung', 'Panasonic'], 'stock': [100, 50], 'Price': [15000, 10000]}}}\n"
     ]
    }
   ],
   "source": [
    "print(fbb)"
   ]
  },
  {
   "cell_type": "code",
   "execution_count": 51,
   "metadata": {},
   "outputs": [
    {
     "name": "stdout",
     "output_type": "stream",
     "text": [
      "{'Cosmatic': {'Bodylotion': {'price': [50, 100], 'stock': [100, 200]},\n",
      "              'Soap': {'price': [10, 20], 'stock': [150, 200]}},\n",
      " 'Electronic': {'Fridge': {'Price': [15000, 10000],\n",
      "                           'brand': ['Samsung', 'Panasonic'],\n",
      "                           'stock': [100, 50]},\n",
      "                'Mobile': {'Price': [40000, 10000, 30000],\n",
      "                           'brand': ['One Plus', 'MI', 'Iphone'],\n",
      "                           'stock': [500, 200, 100]}},\n",
      " 'Stationary': {'Pen': {'price': [5, 10], 'stock': [100, 200]},\n",
      "                'Register': {'price': [40, 50], 'stock': [200, 150]}}}\n"
     ]
    }
   ],
   "source": [
    "pprint(fbb)"
   ]
  },
  {
   "cell_type": "code",
   "execution_count": 52,
   "metadata": {},
   "outputs": [
    {
     "data": {
      "text/plain": [
       "dict_keys(['Stationary', 'Cosmatic', 'Electronic'])"
      ]
     },
     "execution_count": 52,
     "metadata": {},
     "output_type": "execute_result"
    }
   ],
   "source": [
    "fbb.keys()"
   ]
  },
  {
   "cell_type": "code",
   "execution_count": 53,
   "metadata": {},
   "outputs": [
    {
     "data": {
      "text/plain": [
       "dict_keys(['Pen', 'Register'])"
      ]
     },
     "execution_count": 53,
     "metadata": {},
     "output_type": "execute_result"
    }
   ],
   "source": [
    "fbb['Stationary'].keys()"
   ]
  },
  {
   "cell_type": "code",
   "execution_count": 54,
   "metadata": {},
   "outputs": [
    {
     "data": {
      "text/plain": [
       "dict"
      ]
     },
     "execution_count": 54,
     "metadata": {},
     "output_type": "execute_result"
    }
   ],
   "source": [
    "type(fbb['Stationary']['Pen'])"
   ]
  },
  {
   "cell_type": "code",
   "execution_count": 55,
   "metadata": {},
   "outputs": [
    {
     "data": {
      "text/plain": [
       "dict_keys(['price', 'stock'])"
      ]
     },
     "execution_count": 55,
     "metadata": {},
     "output_type": "execute_result"
    }
   ],
   "source": [
    "fbb['Stationary']['Pen'].keys()"
   ]
  },
  {
   "cell_type": "code",
   "execution_count": 56,
   "metadata": {},
   "outputs": [
    {
     "data": {
      "text/plain": [
       "list"
      ]
     },
     "execution_count": 56,
     "metadata": {},
     "output_type": "execute_result"
    }
   ],
   "source": [
    "type(fbb['Stationary']['Pen']['price'])"
   ]
  },
  {
   "cell_type": "code",
   "execution_count": 57,
   "metadata": {},
   "outputs": [
    {
     "data": {
      "text/plain": [
       "{'Pen': {'price': [5, 10], 'stock': [100, 200]},\n",
       " 'Register': {'price': [40, 50], 'stock': [200, 150]}}"
      ]
     },
     "execution_count": 57,
     "metadata": {},
     "output_type": "execute_result"
    }
   ],
   "source": [
    "fbb['Stationary']"
   ]
  },
  {
   "cell_type": "code",
   "execution_count": 58,
   "metadata": {},
   "outputs": [
    {
     "data": {
      "text/plain": [
       "{'price': [5, 10], 'stock': [100, 200]}"
      ]
     },
     "execution_count": 58,
     "metadata": {},
     "output_type": "execute_result"
    }
   ],
   "source": [
    "fbb['Stationary']['Pen']"
   ]
  },
  {
   "cell_type": "code",
   "execution_count": 59,
   "metadata": {},
   "outputs": [
    {
     "data": {
      "text/plain": [
       "{'price': [40, 50], 'stock': [200, 150]}"
      ]
     },
     "execution_count": 59,
     "metadata": {},
     "output_type": "execute_result"
    }
   ],
   "source": [
    "fbb['Stationary']['Register']"
   ]
  },
  {
   "cell_type": "code",
   "execution_count": 62,
   "metadata": {},
   "outputs": [
    {
     "name": "stdout",
     "output_type": "stream",
     "text": [
      "Price of Pen is :[5, 10] \n",
      "Stock of Pen is [100, 200]\n"
     ]
    }
   ],
   "source": [
    "print(f\"Price of Pen is :{fbb['Stationary']['Pen']['price']} \\nStock of Pen is {fbb['Stationary']['Pen']['stock']}\")"
   ]
  },
  {
   "cell_type": "code",
   "execution_count": 64,
   "metadata": {},
   "outputs": [],
   "source": [
    "fbb['Stationary']['Pen']['price'].append(20)\n",
    "fbb['Stationary']['Pen']['stock'].append(50)"
   ]
  },
  {
   "cell_type": "code",
   "execution_count": 63,
   "metadata": {},
   "outputs": [
    {
     "data": {
      "text/plain": [
       "[5, 10]"
      ]
     },
     "execution_count": 63,
     "metadata": {},
     "output_type": "execute_result"
    }
   ],
   "source": [
    "fbb['Stationary']['Pen']['price']"
   ]
  },
  {
   "cell_type": "code",
   "execution_count": 65,
   "metadata": {},
   "outputs": [
    {
     "name": "stdout",
     "output_type": "stream",
     "text": [
      "Price of Pen is :[5, 10, 20] \n",
      "Stock of Pen is [100, 200, 50]\n"
     ]
    }
   ],
   "source": [
    "print(f\"Price of Pen is :{fbb['Stationary']['Pen']['price']} \\nStock of Pen is {fbb['Stationary']['Pen']['stock']}\")"
   ]
  },
  {
   "cell_type": "code",
   "execution_count": 66,
   "metadata": {},
   "outputs": [],
   "source": [
    "l=[1,2,3]"
   ]
  },
  {
   "cell_type": "code",
   "execution_count": 67,
   "metadata": {},
   "outputs": [
    {
     "data": {
      "text/plain": [
       "1"
      ]
     },
     "execution_count": 67,
     "metadata": {},
     "output_type": "execute_result"
    }
   ],
   "source": [
    "l[0]"
   ]
  },
  {
   "cell_type": "code",
   "execution_count": 68,
   "metadata": {},
   "outputs": [],
   "source": [
    "l[0]='hey'"
   ]
  },
  {
   "cell_type": "code",
   "execution_count": 69,
   "metadata": {},
   "outputs": [
    {
     "data": {
      "text/plain": [
       "['hey', 2, 3]"
      ]
     },
     "execution_count": 69,
     "metadata": {},
     "output_type": "execute_result"
    }
   ],
   "source": [
    "l"
   ]
  },
  {
   "cell_type": "code",
   "execution_count": 70,
   "metadata": {},
   "outputs": [],
   "source": [
    "s='hello world'"
   ]
  },
  {
   "cell_type": "code",
   "execution_count": 71,
   "metadata": {},
   "outputs": [
    {
     "ename": "TypeError",
     "evalue": "'str' object does not support item assignment",
     "output_type": "error",
     "traceback": [
      "\u001b[1;31m---------------------------------------------------------------------------\u001b[0m",
      "\u001b[1;31mTypeError\u001b[0m                                 Traceback (most recent call last)",
      "\u001b[1;32m<ipython-input-71-65509d6d39d8>\u001b[0m in \u001b[0;36m<module>\u001b[1;34m\u001b[0m\n\u001b[1;32m----> 1\u001b[1;33m \u001b[0ms\u001b[0m\u001b[1;33m[\u001b[0m\u001b[1;36m0\u001b[0m\u001b[1;33m]\u001b[0m\u001b[1;33m=\u001b[0m\u001b[1;34m''\u001b[0m\u001b[1;33m\u001b[0m\u001b[1;33m\u001b[0m\u001b[0m\n\u001b[0m",
      "\u001b[1;31mTypeError\u001b[0m: 'str' object does not support item assignment"
     ]
    }
   ],
   "source": [
    "s[0]=''"
   ]
  },
  {
   "cell_type": "code",
   "execution_count": 72,
   "metadata": {},
   "outputs": [],
   "source": [
    "t=(1,2,3,4)"
   ]
  },
  {
   "cell_type": "code",
   "execution_count": 73,
   "metadata": {},
   "outputs": [
    {
     "data": {
      "text/plain": [
       "1"
      ]
     },
     "execution_count": 73,
     "metadata": {},
     "output_type": "execute_result"
    }
   ],
   "source": [
    "t[0]"
   ]
  },
  {
   "cell_type": "code",
   "execution_count": 74,
   "metadata": {},
   "outputs": [
    {
     "ename": "TypeError",
     "evalue": "'tuple' object does not support item assignment",
     "output_type": "error",
     "traceback": [
      "\u001b[1;31m---------------------------------------------------------------------------\u001b[0m",
      "\u001b[1;31mTypeError\u001b[0m                                 Traceback (most recent call last)",
      "\u001b[1;32m<ipython-input-74-d4f6c98467e6>\u001b[0m in \u001b[0;36m<module>\u001b[1;34m\u001b[0m\n\u001b[1;32m----> 1\u001b[1;33m \u001b[0mt\u001b[0m\u001b[1;33m[\u001b[0m\u001b[1;36m0\u001b[0m\u001b[1;33m]\u001b[0m\u001b[1;33m=\u001b[0m\u001b[1;34m'hello'\u001b[0m\u001b[1;33m\u001b[0m\u001b[1;33m\u001b[0m\u001b[0m\n\u001b[0m",
      "\u001b[1;31mTypeError\u001b[0m: 'tuple' object does not support item assignment"
     ]
    }
   ],
   "source": [
    "t[0]='hello'"
   ]
  },
  {
   "cell_type": "code",
   "execution_count": 75,
   "metadata": {},
   "outputs": [
    {
     "data": {
      "text/plain": [
       "{'Pen': {'price': [5, 10, 20], 'stock': [100, 200, 50]},\n",
       " 'Register': {'price': [40, 50], 'stock': [200, 150]}}"
      ]
     },
     "execution_count": 75,
     "metadata": {},
     "output_type": "execute_result"
    }
   ],
   "source": [
    "fbb['Stationary']"
   ]
  },
  {
   "cell_type": "code",
   "execution_count": null,
   "metadata": {},
   "outputs": [],
   "source": [
    "import random\n",
    "for i in fbb['Stationary']['Pen']['price']:\n",
    "    fbb['Stationary']['Pen']['price'].insert(i,random.randint(1,20))"
   ]
  },
  {
   "cell_type": "code",
   "execution_count": 78,
   "metadata": {},
   "outputs": [
    {
     "name": "stdout",
     "output_type": "stream",
     "text": [
      "Price of Pen is :[5, 10, 20] \n",
      "Stock of Pen is [100, 200, 50]\n"
     ]
    }
   ],
   "source": [
    "print(f\"Price of Pen is :{fbb['Stationary']['Pen']['price']} \\nStock of Pen is {fbb['Stationary']['Pen']['stock']}\")"
   ]
  },
  {
   "cell_type": "code",
   "execution_count": 16,
   "metadata": {},
   "outputs": [],
   "source": [
    "from random import randint\n",
    "for i in range(len(fbb['Stationary']['Pen']['price'])):\n",
    "    fbb['Stationary']['Pen']['price'][i]=randint(1,20)"
   ]
  },
  {
   "cell_type": "code",
   "execution_count": 17,
   "metadata": {},
   "outputs": [
    {
     "data": {
      "text/plain": [
       "[9, 16]"
      ]
     },
     "execution_count": 17,
     "metadata": {},
     "output_type": "execute_result"
    }
   ],
   "source": [
    "fbb['Stationary']['Pen']['price']"
   ]
  },
  {
   "cell_type": "code",
   "execution_count": null,
   "metadata": {},
   "outputs": [],
   "source": []
  }
 ],
 "metadata": {
  "kernelspec": {
   "display_name": "Python 3",
   "language": "python",
   "name": "python3"
  }
 },
 "nbformat": 4,
 "nbformat_minor": 2
}
